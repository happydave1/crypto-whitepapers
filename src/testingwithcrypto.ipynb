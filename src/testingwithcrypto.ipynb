{
 "cells": [
  {
   "cell_type": "markdown",
   "id": "315f010c-1baa-4015-88aa-bdebeb9e3452",
   "metadata": {},
   "source": [
    "# Install Dependencies"
   ]
  },
  {
   "cell_type": "code",
   "execution_count": 48,
   "id": "34ef79a8-24ca-4c8f-9fa3-6f0255af1226",
   "metadata": {},
   "outputs": [],
   "source": [
    "import dotenv\n",
    "import os\n",
    "import pandas as pd\n",
    "import requests\n",
    "import json\n",
    "from bs4 import BeautifulSoup\n",
    "from tqdm import tqdm\n",
    "from pprint import pprint\n",
    "\n",
    "dotenv.load_dotenv()\n",
    "CMC_API_KEY = os.getenv(\"API_KEY\") # get CMC api key from .env"
   ]
  },
  {
   "cell_type": "markdown",
   "id": "36226931-dd88-4c38-9628-98018937059d",
   "metadata": {},
   "source": [
    "# Get Top N Cryptocurrencies from CoinMarketCap API\n",
    "\n",
    "Store it in a csv to bypass api limits\n"
   ]
  },
  {
   "cell_type": "code",
   "execution_count": null,
   "id": "6cf8fcb8-07cb-42c1-9695-01445e493b2b",
   "metadata": {},
   "outputs": [],
   "source": [
    "def get_top_n_currencies(n) -> pd.DataFrame:\n",
    "\n",
    "    url = \"https://pro-api.coinmarketcap.com/v1/cryptocurrency/listings/latest\"\n",
    "    parameters = {\n",
    "        'start':'1',\n",
    "        'limit':str(n),\n",
    "        'convert':'USD'\n",
    "    }\n",
    "    headers = {\n",
    "      'Accepts': 'application/json',\n",
    "      'X-CMC_PRO_API_KEY': CMC_API_KEY,\n",
    "    }\n",
    "\n",
    "    response = requests.get(url, params=parameters, headers=headers)\n",
    "    data = response.json()\n",
    "\n",
    "    # check if valid response\n",
    "    if (response.status_code != 200):\n",
    "        print(f\"Error! Status code: {response.status_code}. {data['status']['error_message']}\")\n",
    "    else:\n",
    "        ## store response data in a DataFrame\n",
    "        df = pd.DataFrame(data['data'])\n",
    "        return df\n",
    "\n",
    "# ## Call function and store DataFrame into a csv file -> only once!\n",
    "# df = get_top_n_currencies(5000)\n",
    "# df.to_csv('data/output.csv', index=True)\n"
   ]
  },
  {
   "cell_type": "markdown",
   "id": "f8cc9f4c-3bc7-417a-afc8-d48dec971edf",
   "metadata": {},
   "source": [
    "# Got the top n crypto -> now try and use beautifulsoup to scrape whitepaper links for each"
   ]
  },
  {
   "cell_type": "code",
   "execution_count": 77,
   "id": "a66a7ffe-69ad-430a-bff3-392d07be74db",
   "metadata": {},
   "outputs": [],
   "source": [
    "def get_whitepaper_links(crypto_name):\n",
    "\n",
    "    # make a GET request to fetch html data for the crypto\n",
    "    url = f'https://coinmarketcap.com/currencies/{crypto_name}/'\n",
    "    headers = { 'User-Agent' : 'Mozilla/5.0' }\n",
    "    response = requests.get(url, headers=headers)\n",
    "\n",
    "    if (response.status_code != 200):\n",
    "        print(f\"Error connecting to CoinMarketCap. Status code: {response.status_code}. Error Description: {response.reason}\")\n",
    "        return\n",
    "\n",
    "    body = response.text\n",
    "    \n",
    "    # use BeautifulSoup to parse through response\n",
    "    soup = BeautifulSoup(body, 'html.parser')\n",
    "\n",
    "    divs = soup.find_all('div', class_='sc-d1ede7e3-0 sc-7f0f401-0 gRSwoF gQoblf')\n",
    "    for div in divs:\n",
    "        if 'whitepaper' not in div.get_text().lower():\n",
    "            continue\n",
    "        for a_tag in div.find_all('a', href=True):\n",
    "            return a_tag['href']\n",
    "\n",
    "# iterate through earlier csv and get names of top n cryptos\n",
    "# tqdm.pandas()\n",
    "# df = pd.read_csv('data/output.csv').head(5) # for testing reason just use 5 for now\n",
    "# df['whitepaper_link'] = df['slug'].progress_apply(get_whitepaper_links)\n",
    "\n",
    "# df.to_csv('data/output_with_links.csv', index=False)\n",
    "\n",
    "    "
   ]
  },
  {
   "cell_type": "markdown",
   "id": "827a4eca-0eab-4540-8617-4e3393e5dbeb",
   "metadata": {},
   "source": [
    "# Try using a different website to get crypto whitepapers"
   ]
  },
  {
   "cell_type": "code",
   "execution_count": 66,
   "id": "66b95582-faaa-4b92-b36b-a24dd582fb82",
   "metadata": {},
   "outputs": [],
   "source": [
    "def get_whitepapers_v2(slug):\n",
    "    url = f'https://whitepaper.io/coin/{slug}'\n",
    "    headers = {'User-Agent' : 'Mozilla/5.0'}\n",
    "    response = requests.get(url, headers=headers)\n",
    "\n",
    "    if response.status_code != 200:\n",
    "        print(f\"Error connecting to whitepaper.io for currency {slug}. Error code: {response.status_code}. Error description: {response.reason}\")\n",
    "        return\n",
    "\n",
    "    soup = BeautifulSoup(response.text, 'html.parser')\n",
    "\n",
    "    script_tag = soup.find('script', id='__NEXT_DATA__')\n",
    "    json_data = json.loads(script_tag.string)\n",
    "\n",
    "    whitepaper_link = json_data['props']['pageProps']['documents'][0]['source']\n",
    "\n",
    "    return whitepaper_link\n",
    "\n",
    "\n",
    "## TESTING\n",
    "# get_whitepapers_v2('bitcoin')\n",
    "\n",
    "# tqdm.pandas()\n",
    "# df = pd.read_csv('data/output.csv').head(5) # for testing reason just use 5 for now\n",
    "# df['whitepaper_link'] = df['slug'].progress_apply(get_whitepapers_v2)\n",
    "\n",
    "# df.to_csv('data/output_with_links.csv', index=False)"
   ]
  },
  {
   "cell_type": "markdown",
   "id": "0d195895-282c-4716-a21a-89d1d31729ed",
   "metadata": {},
   "source": [
    "# Version Three -> get the whitepaper.io site which houses the PDF"
   ]
  },
  {
   "cell_type": "code",
   "execution_count": 97,
   "id": "4f66486a-3331-437f-8552-d5810d7fcae0",
   "metadata": {},
   "outputs": [],
   "source": [
    "def get_whitepapers_v3(slug):\n",
    "    url = f'https://whitepaper.io/coin/{slug}'\n",
    "    headers = {'User-Agent' : 'Mozilla/5.0'}\n",
    "    response = requests.get(url, headers=headers)\n",
    "\n",
    "    if response.status_code != 200:\n",
    "        if response.status_code == 410:\n",
    "            return\n",
    "        print(f\"Error connecting to whitepaper.io for currency {slug}. Error code: {response.status_code}. Error description: {response.reason}\")\n",
    "        return\n",
    "\n",
    "    soup = BeautifulSoup(response.text, 'html.parser')\n",
    "\n",
    "    divs = soup.find_all('div', class_='hidden')\n",
    "    for div in divs:\n",
    "\n",
    "        a_tag = div.find('a')\n",
    "\n",
    "        if a_tag:\n",
    "            if 'pdf' in a_tag.get_text().lower():\n",
    "                return a_tag['href']\n",
    "\n",
    "### TESTING\n",
    "# get_whitepapers_v3('bitcoin')\n",
    "\n",
    "# tqdm.pandas()\n",
    "# number_of_cryptos = 100\n",
    "# df = pd.read_csv('data/output.csv').head(number_of_cryptos)\n",
    "# df['whitepaper_link'] = df['slug'].progress_apply(get_whitepapers_v3)\n",
    "\n",
    "# df.to_csv('data/output_with_links.csv', index=False)"
   ]
  },
  {
   "cell_type": "code",
   "execution_count": 86,
   "id": "e96504d8-2ea8-463f-825a-279d431e36d7",
   "metadata": {},
   "outputs": [
    {
     "name": "stdout",
     "output_type": "stream",
     "text": [
      "Dimensions of DataFrame: (100, 20)\n",
      "Number of whitepaper links extracted out of 100: 41\n"
     ]
    }
   ],
   "source": [
    "print(f\"Dimensions of DataFrame: {df.shape}\")\n",
    "print(f\"Number of whitepaper links extracted out of {number_of_cryptos}: {df['whitepaper_link'].count()}\")"
   ]
  },
  {
   "cell_type": "markdown",
   "id": "4984b864-cf88-4246-bf68-93dd46870865",
   "metadata": {},
   "source": [
    "### Check if there is overlap between data set 1 and 2"
   ]
  },
  {
   "cell_type": "code",
   "execution_count": 91,
   "id": "7d6ac122-7000-4b04-b4fb-12a9d3f52ed9",
   "metadata": {},
   "outputs": [
    {
     "name": "stderr",
     "output_type": "stream",
     "text": [
      "100%|███████████████████████████████████████████████████████████| 100/100 [00:30<00:00,  3.26it/s]\n"
     ]
    }
   ],
   "source": [
    "df['og_whitepaper_link'] = df['slug'].progress_apply(get_whitepaper_links)\n",
    "\n",
    "df['combined_links'] = df['whitepaper_link'].combine_first(df['og_whitepaper_link'])  # combine new whitepaper links with oiginal, prioritizing the new ones\n",
    "\n",
    "# write the df to the csv\n",
    "df.to_csv('data/output_with_links.csv', index=False)\n"
   ]
  },
  {
   "cell_type": "code",
   "execution_count": 95,
   "id": "dea00f72-9d9a-490f-8a0b-1cc01d896e20",
   "metadata": {},
   "outputs": [
    {
     "name": "stdout",
     "output_type": "stream",
     "text": [
      "Dimensions of new DataFrame with original links and combined: (100, 22)\n",
      "Number of whitepaper links combined out of 100: 84\n"
     ]
    }
   ],
   "source": [
    "print(f'Dimensions of new DataFrame with original links and combined: {df.shape}') # expected 22\n",
    "print(f'Number of whitepaper links combined out of {number_of_cryptos}: {df['combined_links'].count()}')"
   ]
  },
  {
   "cell_type": "code",
   "execution_count": null,
   "id": "3240ba18-5799-4421-841a-4e5898e21c7e",
   "metadata": {},
   "outputs": [],
   "source": []
  }
 ],
 "metadata": {
  "kernelspec": {
   "display_name": "Python 3 (ipykernel)",
   "language": "python",
   "name": "python3"
  },
  "language_info": {
   "codemirror_mode": {
    "name": "ipython",
    "version": 3
   },
   "file_extension": ".py",
   "mimetype": "text/x-python",
   "name": "python",
   "nbconvert_exporter": "python",
   "pygments_lexer": "ipython3",
   "version": "3.12.3"
  }
 },
 "nbformat": 4,
 "nbformat_minor": 5
}
