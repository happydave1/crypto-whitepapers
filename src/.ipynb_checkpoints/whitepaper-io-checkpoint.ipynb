{
 "cells": [
  {
   "cell_type": "code",
   "execution_count": 2,
   "metadata": {},
   "outputs": [],
   "source": [
    "import requests\n",
    "from bs4 import BeautifulSoup\n",
    "import json, os\n",
    "import pandas as pd\n",
    "from tqdm import tqdm\n",
    "import traceback\n",
    "import math, pprint\n",
    "\n",
    "pd.set_option('display.max_rows', None)\n",
    "pd.set_option('display.max_columns', None)\n",
    "pd.set_option('display.max_colwidth', None)\n",
    "pd.options.mode.chained_assignment = None\n",
    "\n",
    "NUMBER_OF_CYRYPTOS = 1100"
   ]
  },
  {
   "cell_type": "markdown",
   "metadata": {},
   "source": [
    "### Get top 1100 Crypto Slugs & Ids from API.\n",
    "- API URL: f'https://api-new.whitepaper.io/coins?page={index}'"
   ]
  },
  {
   "cell_type": "code",
   "execution_count": 4,
   "metadata": {},
   "outputs": [
    {
     "name": "stderr",
     "output_type": "stream",
     "text": [
      "100%|█████████████████████████████████████████████████████████████████████████████████████████████████████████████████████████████| 110/110 [00:53<00:00,  2.04it/s]"
     ]
    },
    {
     "name": "stdout",
     "output_type": "stream",
     "text": [
      "dimensions of data frame: (1100, 2)\n"
     ]
    },
    {
     "name": "stderr",
     "output_type": "stream",
     "text": [
      "\n"
     ]
    }
   ],
   "source": [
    "def get_data_from_call(page_number, arr):\n",
    "\n",
    "    # construct url to parse\n",
    "    url = f'https://api-new.whitepaper.io/coins?page={page_number}'\n",
    "\n",
    "    # construct headers\n",
    "    headers = { 'User-Agent' : 'Mozilla/5.0' }\n",
    "\n",
    "    # make request\n",
    "    response = requests.get(url, headers=headers)\n",
    "\n",
    "    if response.status_code != 200:\n",
    "        print(f'Error. Status code: {response.status_code}. Description: {response.reason}.')\n",
    "        return\n",
    "\n",
    "    json_dict = response.json()\n",
    "\n",
    "    data = json_dict['result']\n",
    "\n",
    "    # length of data is 10\n",
    "    # iterate through data and extract id and slug\n",
    "    for i in range(len(data)):\n",
    "        slug = data[i]['slug']\n",
    "        id = data[i]['id']\n",
    "        temp = [slug, id]\n",
    "        arr.append(temp)\n",
    "\n",
    "    \n",
    "\n",
    "# 10 cryptos displayed per page\n",
    "num_pages = math.ceil(NUMBER_OF_CYRYPTOS / 10)\n",
    "\n",
    "# build dataframe -> each row should have the 1) slug and  2) id\n",
    "arr = []\n",
    "columns = ['slug', 'id']\n",
    "\n",
    "for page_number in tqdm(range(1, num_pages + 1)):\n",
    "    get_data_from_call(page_number, arr)\n",
    "\n",
    "df = pd.DataFrame(arr, columns=columns)\n",
    "\n",
    "df.to_csv('../data/wpio_output.csv', index=False)\n",
    "\n",
    "print(f'dimensions of data frame: {df.shape}') # should print (1100, 2)\n",
    "    "
   ]
  },
  {
   "cell_type": "markdown",
   "metadata": {},
   "source": [
    "#### Get the document key corresponding to each crypto from API.\n",
    "• API URL: f'https://api-new.whitepaper.io/documents?id={coin_id}'"
   ]
  },
  {
   "cell_type": "code",
   "execution_count": 13,
   "metadata": {},
   "outputs": [
    {
     "name": "stderr",
     "output_type": "stream",
     "text": [
      "100%|███████████████████████████████████████████████████████████████████████████████████████████████████████████████████████████| 1100/1100 [08:25<00:00,  2.18it/s]\n"
     ]
    }
   ],
   "source": [
    "def get_document_key(id, arr):\n",
    "\n",
    "    url = f'https://api-new.whitepaper.io/documents?id={id}'\n",
    "    headers = { 'User-Agent' : 'Mozilla/5.0' }\n",
    "    response = requests.get(url, headers=headers)\n",
    "\n",
    "    if response.status_code != 200:\n",
    "        print(f'Error. Status code: {response.status_code}. Description: {response.reason}.')\n",
    "        return\n",
    "\n",
    "    data = response.json()\n",
    "\n",
    "    # check if the page has a valid coin\n",
    "    if (len(data) >= 1): \n",
    "        \n",
    "        json_dict = data[0]\n",
    "    \n",
    "        key = json_dict['key']\n",
    "    \n",
    "        arr.append(key)\n",
    "\n",
    "    else:\n",
    "        arr.append(None)\n",
    "    \n",
    "\n",
    "\n",
    "tqdm.pandas()\n",
    "df = pd.read_csv('../data/wpio_output.csv')\n",
    "arr = []\n",
    "\n",
    "for index, row in tqdm(df.iterrows(), total=df.shape[0]):\n",
    "    id = row['id']\n",
    "    get_document_key(id, arr)\n",
    "\n",
    "df['document_key'] = arr\n",
    "df.to_csv('../data/wpio_output_with_keys.csv', index=False)\n",
    "\n",
    "# # TESTING\n",
    "# test_id = '5ccb65e109b644000eadba30'\n",
    "# test_arr = []\n",
    "# get_document_key(test_id, test_arr)\n",
    "# print(test_arr)\n",
    "\n",
    "\n"
   ]
  },
  {
   "cell_type": "markdown",
   "metadata": {},
   "source": [
    "#### Download documents for each crypto. Link is of the form:\n",
    "- f'https://api-new.whitepaper.io/documents/pdf?id={document_key}'\n",
    "- Store the pdfs in the directory:\n",
    "    - f'../whitepaper-io/{slug.pdf}'"
   ]
  },
  {
   "cell_type": "code",
   "execution_count": 28,
   "metadata": {},
   "outputs": [
    {
     "name": "stderr",
     "output_type": "stream",
     "text": [
      "100%|████████████████████████████████████████████████████████████████████████████████████████████████████████████████████████| 1100/1100 [00:00<00:00, 19152.31it/s]"
     ]
    },
    {
     "name": "stdout",
     "output_type": "stream",
     "text": [
      "8\n"
     ]
    },
    {
     "name": "stderr",
     "output_type": "stream",
     "text": [
      "\n"
     ]
    }
   ],
   "source": [
    "def get_pdf_and_store(key, slug):\n",
    "\n",
    "    url = f'https://api-new.whitepaper.io/documents/pdf?id={key}'\n",
    "    headers = { 'User-Agent' : 'Mozilla/5.0' }\n",
    "    response = requests.get(url, headers=headers)\n",
    "\n",
    "    if response.status_code != 200:\n",
    "        print(f'Error. Status code: {response.status_code}. Description: {response.reason}.')\n",
    "        return\n",
    "\n",
    "    file_name = f'../whitepaper-io/{slug}.pdf'\n",
    "\n",
    "    # write to a pdf\n",
    "    with open(file_name, 'wb') as file:\n",
    "        file.write(response.content)\n",
    "\n",
    "df = pd.read_csv('../data/wpio_output_with_keys.csv')\n",
    "missing_counter = 0\n",
    "\n",
    "for index, row in tqdm(df.iterrows(), total=df.shape[0]):\n",
    "    key = row['document_key']\n",
    "    slug = row['slug']\n",
    "\n",
    "    # checking if unable to fetch document\n",
    "    if (pd.isna(key)):\n",
    "        print(f'{slug} pdf could not be found.')\n",
    "        missing_counter += 1\n",
    "        continue\n",
    "\n",
    "    \n",
    "    get_pdf_and_store(key, slug)\n",
    "\n",
    "print(f'done! total documents missing: {missing_counter} out of {NUMBER_OF_CYRYPTOS}') # 8 documents missing\n"
   ]
  },
  {
   "cell_type": "code",
   "execution_count": null,
   "metadata": {},
   "outputs": [],
   "source": []
  },
  {
   "cell_type": "code",
   "execution_count": null,
   "metadata": {},
   "outputs": [],
   "source": []
  }
 ],
 "metadata": {
  "kernelspec": {
   "display_name": "Python 3 (ipykernel)",
   "language": "python",
   "name": "python3"
  },
  "language_info": {
   "codemirror_mode": {
    "name": "ipython",
    "version": 3
   },
   "file_extension": ".py",
   "mimetype": "text/x-python",
   "name": "python",
   "nbconvert_exporter": "python",
   "pygments_lexer": "ipython3",
   "version": "3.12.3"
  }
 },
 "nbformat": 4,
 "nbformat_minor": 4
}
