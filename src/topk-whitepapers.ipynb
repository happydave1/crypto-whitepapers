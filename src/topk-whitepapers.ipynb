{
 "cells": [
  {
   "cell_type": "markdown",
   "metadata": {},
   "source": [
    "#### Import Dependencies"
   ]
  },
  {
   "cell_type": "code",
   "execution_count": 1,
   "metadata": {},
   "outputs": [],
   "source": [
    "import requests\n",
    "from bs4 import BeautifulSoup\n",
    "import json, os\n",
    "import pandas as pd\n",
    "from tqdm import tqdm\n",
    "import traceback\n",
    "import PyPDF2\n",
    "\n",
    "pd.set_option('display.max_rows', None)\n",
    "pd.set_option('display.max_columns', None)\n",
    "pd.set_option('display.max_colwidth', None)\n",
    "pd.options.mode.chained_assignment = None"
   ]
  },
  {
   "cell_type": "markdown",
   "metadata": {},
   "source": [
    "#### Collect Crypto Data\n",
    "- Get data for top 5k crypto by marketcap from coinmarketcap.com\n",
    "- Save data to a file (Prevent usage of Api limit)"
   ]
  },
  {
   "cell_type": "code",
   "execution_count": 2,
   "metadata": {},
   "outputs": [],
   "source": [
    "def get_top_5k_cryptos() -> pd.DataFrame:\n",
    "    \n",
    "    api_key = '1d13c476-343c-4717-b648-8a4a1b939b42'\n",
    "    url = 'https://pro-api.coinmarketcap.com/v1/cryptocurrency/listings/latest'\n",
    "\n",
    "    headers = {\n",
    "        'Accepts': 'application/json',\n",
    "        'X-CMC_PRO_API_KEY': api_key,\n",
    "    }\n",
    "    \n",
    "    params = {\n",
    "        'start': '1',\n",
    "        'limit': '5000',  # You can adjust this to get more or fewer listings\n",
    "        'convert': 'USD',\n",
    "        'sort': 'market_cap'\n",
    "    }\n",
    "    \n",
    "    response = requests.get(url, headers=headers, params=params)\n",
    "    data = response.json()\n",
    "\n",
    "    if response.status_code == 200:\n",
    "        df = pd.DataFrame(data['data'])\n",
    "        return df\n",
    "        print(f'Data Saved..')\n",
    "    else:\n",
    "        print(f\"Error {response.status_code}: {data['status']['error_message']}\")\n",
    "        \n",
    "# df = get_top_5k_cryptos()\n",
    "# df.to_csv('../data/topk_crypto.csv', index=False)\n",
    "# print('Collected top 5k crypto.')"
   ]
  },
  {
   "cell_type": "markdown",
   "metadata": {},
   "source": [
    "#### Load the dataset"
   ]
  },
  {
   "cell_type": "code",
   "execution_count": 3,
   "metadata": {},
   "outputs": [
    {
     "name": "stdout",
     "output_type": "stream",
     "text": [
      "Dimensions of the sataset: (1000, 18)\n"
     ]
    },
    {
     "data": {
      "text/html": [
       "<div>\n",
       "<style scoped>\n",
       "    .dataframe tbody tr th:only-of-type {\n",
       "        vertical-align: middle;\n",
       "    }\n",
       "\n",
       "    .dataframe tbody tr th {\n",
       "        vertical-align: top;\n",
       "    }\n",
       "\n",
       "    .dataframe thead th {\n",
       "        text-align: right;\n",
       "    }\n",
       "</style>\n",
       "<table border=\"1\" class=\"dataframe\">\n",
       "  <thead>\n",
       "    <tr style=\"text-align: right;\">\n",
       "      <th></th>\n",
       "      <th>id</th>\n",
       "      <th>name</th>\n",
       "      <th>symbol</th>\n",
       "      <th>slug</th>\n",
       "      <th>num_market_pairs</th>\n",
       "      <th>date_added</th>\n",
       "      <th>tags</th>\n",
       "      <th>max_supply</th>\n",
       "      <th>circulating_supply</th>\n",
       "      <th>total_supply</th>\n",
       "      <th>infinite_supply</th>\n",
       "      <th>platform</th>\n",
       "      <th>cmc_rank</th>\n",
       "      <th>self_reported_circulating_supply</th>\n",
       "      <th>self_reported_market_cap</th>\n",
       "      <th>tvl_ratio</th>\n",
       "      <th>last_updated</th>\n",
       "      <th>quote</th>\n",
       "    </tr>\n",
       "  </thead>\n",
       "  <tbody>\n",
       "    <tr>\n",
       "      <th>547</th>\n",
       "      <td>5821</td>\n",
       "      <td>Aleph.im</td>\n",
       "      <td>ALEPH</td>\n",
       "      <td>aleph-im</td>\n",
       "      <td>53</td>\n",
       "      <td>2020-07-08T00:00:00.000Z</td>\n",
       "      <td>['mineable', 'cosmos-ecosystem', 'ai-big-data', 'distributed-computing', 'filesharing', 'storage', 'polkadot-ecosystem', 'avalanche-ecosystem', 'solana-ecosystem', 'injective-ecosystem', 'bnb-chain', 'ftx-bankruptcy-estate', 'depin']</td>\n",
       "      <td>NaN</td>\n",
       "      <td>2.472205e+08</td>\n",
       "      <td>500000000.0</td>\n",
       "      <td>False</td>\n",
       "      <td>{'id': 1027, 'name': 'Ethereum', 'symbol': 'ETH', 'slug': 'ethereum', 'token_address': '0x27702a26126e0b3702af63ee09ac4d1a084ef628'}</td>\n",
       "      <td>548</td>\n",
       "      <td>45968548.0</td>\n",
       "      <td>1.372516e+07</td>\n",
       "      <td>NaN</td>\n",
       "      <td>2024-06-06T04:12:00.000Z</td>\n",
       "      <td>{'USD': {'price': 0.2985771825407063, 'volume_24h': 958335.41423686, 'volume_change_24h': -10.6523, 'percent_change_1h': -0.03526277, 'percent_change_24h': -1.10923119, 'percent_change_7d': -6.25369944, 'percent_change_30d': -19.89867374, 'percent_change_60d': 52.17284833, 'percent_change_90d': -19.10340228, 'market_cap': 73814395.02515341, 'market_cap_dominance': 0.0028, 'fully_diluted_market_cap': 149288591.27, 'tvl': None, 'last_updated': '2024-06-06T04:12:00.000Z'}}</td>\n",
       "    </tr>\n",
       "  </tbody>\n",
       "</table>\n",
       "</div>"
      ],
      "text/plain": [
       "       id      name symbol      slug  num_market_pairs  \\\n",
       "547  5821  Aleph.im  ALEPH  aleph-im                53   \n",
       "\n",
       "                   date_added  \\\n",
       "547  2020-07-08T00:00:00.000Z   \n",
       "\n",
       "                                                                                                                                                                                                                                          tags  \\\n",
       "547  ['mineable', 'cosmos-ecosystem', 'ai-big-data', 'distributed-computing', 'filesharing', 'storage', 'polkadot-ecosystem', 'avalanche-ecosystem', 'solana-ecosystem', 'injective-ecosystem', 'bnb-chain', 'ftx-bankruptcy-estate', 'depin']   \n",
       "\n",
       "     max_supply  circulating_supply  total_supply  infinite_supply  \\\n",
       "547         NaN        2.472205e+08   500000000.0            False   \n",
       "\n",
       "                                                                                                                                 platform  \\\n",
       "547  {'id': 1027, 'name': 'Ethereum', 'symbol': 'ETH', 'slug': 'ethereum', 'token_address': '0x27702a26126e0b3702af63ee09ac4d1a084ef628'}   \n",
       "\n",
       "     cmc_rank  self_reported_circulating_supply  self_reported_market_cap  \\\n",
       "547       548                        45968548.0              1.372516e+07   \n",
       "\n",
       "     tvl_ratio              last_updated  \\\n",
       "547        NaN  2024-06-06T04:12:00.000Z   \n",
       "\n",
       "                                                                                                                                                                                                                                                                                                                                                                                                                                                                                          quote  \n",
       "547  {'USD': {'price': 0.2985771825407063, 'volume_24h': 958335.41423686, 'volume_change_24h': -10.6523, 'percent_change_1h': -0.03526277, 'percent_change_24h': -1.10923119, 'percent_change_7d': -6.25369944, 'percent_change_30d': -19.89867374, 'percent_change_60d': 52.17284833, 'percent_change_90d': -19.10340228, 'market_cap': 73814395.02515341, 'market_cap_dominance': 0.0028, 'fully_diluted_market_cap': 149288591.27, 'tvl': None, 'last_updated': '2024-06-06T04:12:00.000Z'}}  "
      ]
     },
     "metadata": {},
     "output_type": "display_data"
    }
   ],
   "source": [
    "k = 1000\n",
    "df = pd.read_csv('../data/topk_crypto.csv').head(k)\n",
    "print(f'Dimensions of the sataset: {df.shape}')\n",
    "display(df.sample(1))\n"
   ]
  },
  {
   "cell_type": "markdown",
   "metadata": {},
   "source": [
    "#### Get whitepaper links for each of the topk cryptos"
   ]
  },
  {
   "cell_type": "code",
   "execution_count": 4,
   "metadata": {},
   "outputs": [],
   "source": [
    "def get_whitepaper_link(slug):\n",
    "    url = f'https://coinmarketcap.com/currencies/{slug}/'\n",
    "    response = requests.get(url)\n",
    "    if response.status_code != 200:\n",
    "        return None\n",
    "    \n",
    "    soup = BeautifulSoup(response.content, 'html.parser')\n",
    "    \n",
    "    divs = soup.find_all('div', class_='sc-d1ede7e3-0 sc-7f0f401-0 gRSwoF gQoblf')\n",
    "    \n",
    "    for div in divs:\n",
    "        if 'whitepaper' not in div.get_text().lower():\n",
    "            continue\n",
    "        \n",
    "        # Find the whitepaper link within this div\n",
    "        for a_tag in div.find_all('a', href=True):\n",
    "            return a_tag['href']\n",
    "    \n",
    "    return None\n",
    "\n",
    "# tqdm.pandas()\n",
    "# df['whitepaper_link'] = df['slug'].progress_apply(get_whitepaper_link)\n",
    "# df.to_csv(f'../data/top{k}_crypto_w_whitepaper_link.csv', index=False)\n"
   ]
  },
  {
   "cell_type": "markdown",
   "metadata": {},
   "source": [
    "#### Loading dataset with whitepaper links"
   ]
  },
  {
   "cell_type": "code",
   "execution_count": 5,
   "metadata": {},
   "outputs": [
    {
     "name": "stdout",
     "output_type": "stream",
     "text": [
      "Shape of dataframe:  (423, 17)\n",
      "Number of whitepaper links:  413\n"
     ]
    },
    {
     "data": {
      "text/html": [
       "<div>\n",
       "<style scoped>\n",
       "    .dataframe tbody tr th:only-of-type {\n",
       "        vertical-align: middle;\n",
       "    }\n",
       "\n",
       "    .dataframe tbody tr th {\n",
       "        vertical-align: top;\n",
       "    }\n",
       "\n",
       "    .dataframe thead th {\n",
       "        text-align: right;\n",
       "    }\n",
       "</style>\n",
       "<table border=\"1\" class=\"dataframe\">\n",
       "  <thead>\n",
       "    <tr style=\"text-align: right;\">\n",
       "      <th></th>\n",
       "      <th>id</th>\n",
       "      <th>name</th>\n",
       "      <th>symbol</th>\n",
       "      <th>slug</th>\n",
       "      <th>num_market_pairs</th>\n",
       "      <th>date_added</th>\n",
       "      <th>max_supply</th>\n",
       "      <th>circulating_supply</th>\n",
       "      <th>total_supply</th>\n",
       "      <th>infinite_supply</th>\n",
       "      <th>platform</th>\n",
       "      <th>cmc_rank</th>\n",
       "      <th>self_reported_circulating_supply</th>\n",
       "      <th>self_reported_market_cap</th>\n",
       "      <th>tvl_ratio</th>\n",
       "      <th>last_updated</th>\n",
       "      <th>whitepaper_link</th>\n",
       "    </tr>\n",
       "  </thead>\n",
       "  <tbody>\n",
       "    <tr>\n",
       "      <th>0</th>\n",
       "      <td>1</td>\n",
       "      <td>Bitcoin</td>\n",
       "      <td>BTC</td>\n",
       "      <td>bitcoin</td>\n",
       "      <td>11101</td>\n",
       "      <td>2010-07-13T00:00:00.000Z</td>\n",
       "      <td>21000000.0</td>\n",
       "      <td>1.970808e+07</td>\n",
       "      <td>1.970808e+07</td>\n",
       "      <td>False</td>\n",
       "      <td>NaN</td>\n",
       "      <td>1</td>\n",
       "      <td>NaN</td>\n",
       "      <td>NaN</td>\n",
       "      <td>NaN</td>\n",
       "      <td>2024-06-06T04:12:00.000Z</td>\n",
       "      <td>https://bitcoin.org/bitcoin.pdf</td>\n",
       "    </tr>\n",
       "    <tr>\n",
       "      <th>1</th>\n",
       "      <td>1027</td>\n",
       "      <td>Ethereum</td>\n",
       "      <td>ETH</td>\n",
       "      <td>ethereum</td>\n",
       "      <td>9038</td>\n",
       "      <td>2015-08-07T00:00:00.000Z</td>\n",
       "      <td>NaN</td>\n",
       "      <td>1.201491e+08</td>\n",
       "      <td>1.201491e+08</td>\n",
       "      <td>True</td>\n",
       "      <td>NaN</td>\n",
       "      <td>2</td>\n",
       "      <td>NaN</td>\n",
       "      <td>NaN</td>\n",
       "      <td>NaN</td>\n",
       "      <td>2024-06-06T04:12:00.000Z</td>\n",
       "      <td>https://github.com/ethereum/wiki/wiki/White-Paper</td>\n",
       "    </tr>\n",
       "    <tr>\n",
       "      <th>2</th>\n",
       "      <td>825</td>\n",
       "      <td>Tether USDt</td>\n",
       "      <td>USDT</td>\n",
       "      <td>tether</td>\n",
       "      <td>87800</td>\n",
       "      <td>2015-02-25T00:00:00.000Z</td>\n",
       "      <td>NaN</td>\n",
       "      <td>1.123921e+11</td>\n",
       "      <td>1.150861e+11</td>\n",
       "      <td>True</td>\n",
       "      <td>{'id': 1027, 'name': 'Ethereum', 'symbol': 'ETH', 'slug': 'ethereum', 'token_address': '0xdac17f958d2ee523a2206206994597c13d831ec7'}</td>\n",
       "      <td>3</td>\n",
       "      <td>NaN</td>\n",
       "      <td>NaN</td>\n",
       "      <td>NaN</td>\n",
       "      <td>2024-06-06T04:12:00.000Z</td>\n",
       "      <td>https://tether.to/wp-content/uploads/2016/06/TetherWhitePaper.pdf</td>\n",
       "    </tr>\n",
       "    <tr>\n",
       "      <th>4</th>\n",
       "      <td>5426</td>\n",
       "      <td>Solana</td>\n",
       "      <td>SOL</td>\n",
       "      <td>solana</td>\n",
       "      <td>674</td>\n",
       "      <td>2020-04-10T00:00:00.000Z</td>\n",
       "      <td>NaN</td>\n",
       "      <td>4.599202e+08</td>\n",
       "      <td>5.775657e+08</td>\n",
       "      <td>True</td>\n",
       "      <td>NaN</td>\n",
       "      <td>5</td>\n",
       "      <td>NaN</td>\n",
       "      <td>NaN</td>\n",
       "      <td>NaN</td>\n",
       "      <td>2024-06-06T04:12:00.000Z</td>\n",
       "      <td>https://solana.com/solana-whitepaper.pdf</td>\n",
       "    </tr>\n",
       "    <tr>\n",
       "      <th>5</th>\n",
       "      <td>3408</td>\n",
       "      <td>USDC</td>\n",
       "      <td>USDC</td>\n",
       "      <td>usd-coin</td>\n",
       "      <td>19594</td>\n",
       "      <td>2018-10-08T00:00:00.000Z</td>\n",
       "      <td>NaN</td>\n",
       "      <td>3.260113e+10</td>\n",
       "      <td>3.260113e+10</td>\n",
       "      <td>False</td>\n",
       "      <td>{'id': 1027, 'name': 'Ethereum', 'symbol': 'ETH', 'slug': 'ethereum', 'token_address': '0xa0b86991c6218b36c1d19d4a2e9eb0ce3606eb48'}</td>\n",
       "      <td>6</td>\n",
       "      <td>NaN</td>\n",
       "      <td>NaN</td>\n",
       "      <td>NaN</td>\n",
       "      <td>2024-06-06T04:12:00.000Z</td>\n",
       "      <td>https://f.hubspotusercontent30.net/hubfs/9304636/PDF/centre-whitepaper.pdf</td>\n",
       "    </tr>\n",
       "  </tbody>\n",
       "</table>\n",
       "</div>"
      ],
      "text/plain": [
       "     id         name symbol      slug  num_market_pairs  \\\n",
       "0     1      Bitcoin    BTC   bitcoin             11101   \n",
       "1  1027     Ethereum    ETH  ethereum              9038   \n",
       "2   825  Tether USDt   USDT    tether             87800   \n",
       "4  5426       Solana    SOL    solana               674   \n",
       "5  3408         USDC   USDC  usd-coin             19594   \n",
       "\n",
       "                 date_added  max_supply  circulating_supply  total_supply  \\\n",
       "0  2010-07-13T00:00:00.000Z  21000000.0        1.970808e+07  1.970808e+07   \n",
       "1  2015-08-07T00:00:00.000Z         NaN        1.201491e+08  1.201491e+08   \n",
       "2  2015-02-25T00:00:00.000Z         NaN        1.123921e+11  1.150861e+11   \n",
       "4  2020-04-10T00:00:00.000Z         NaN        4.599202e+08  5.775657e+08   \n",
       "5  2018-10-08T00:00:00.000Z         NaN        3.260113e+10  3.260113e+10   \n",
       "\n",
       "   infinite_supply  \\\n",
       "0            False   \n",
       "1             True   \n",
       "2             True   \n",
       "4             True   \n",
       "5            False   \n",
       "\n",
       "                                                                                                                               platform  \\\n",
       "0                                                                                                                                   NaN   \n",
       "1                                                                                                                                   NaN   \n",
       "2  {'id': 1027, 'name': 'Ethereum', 'symbol': 'ETH', 'slug': 'ethereum', 'token_address': '0xdac17f958d2ee523a2206206994597c13d831ec7'}   \n",
       "4                                                                                                                                   NaN   \n",
       "5  {'id': 1027, 'name': 'Ethereum', 'symbol': 'ETH', 'slug': 'ethereum', 'token_address': '0xa0b86991c6218b36c1d19d4a2e9eb0ce3606eb48'}   \n",
       "\n",
       "   cmc_rank  self_reported_circulating_supply  self_reported_market_cap  \\\n",
       "0         1                               NaN                       NaN   \n",
       "1         2                               NaN                       NaN   \n",
       "2         3                               NaN                       NaN   \n",
       "4         5                               NaN                       NaN   \n",
       "5         6                               NaN                       NaN   \n",
       "\n",
       "   tvl_ratio              last_updated  \\\n",
       "0        NaN  2024-06-06T04:12:00.000Z   \n",
       "1        NaN  2024-06-06T04:12:00.000Z   \n",
       "2        NaN  2024-06-06T04:12:00.000Z   \n",
       "4        NaN  2024-06-06T04:12:00.000Z   \n",
       "5        NaN  2024-06-06T04:12:00.000Z   \n",
       "\n",
       "                                                              whitepaper_link  \n",
       "0                                             https://bitcoin.org/bitcoin.pdf  \n",
       "1                           https://github.com/ethereum/wiki/wiki/White-Paper  \n",
       "2           https://tether.to/wp-content/uploads/2016/06/TetherWhitePaper.pdf  \n",
       "4                                    https://solana.com/solana-whitepaper.pdf  \n",
       "5  https://f.hubspotusercontent30.net/hubfs/9304636/PDF/centre-whitepaper.pdf  "
      ]
     },
     "metadata": {},
     "output_type": "display_data"
    }
   ],
   "source": [
    "df = pd.read_csv('../data/top1000_crypto_w_whitepaper_link.csv')\n",
    "df = df.drop(columns = ['tags', 'quote'])\n",
    "df = df[df['whitepaper_link'].notna()]\n",
    "print(f'Shape of dataframe: ', df.shape)\n",
    "print(f'Number of whitepaper links: ', df.whitepaper_link.nunique())\n",
    "display(df.head(5))"
   ]
  },
  {
   "cell_type": "markdown",
   "metadata": {},
   "source": [
    "#### Download pdfs"
   ]
  },
  {
   "cell_type": "code",
   "execution_count": 6,
   "metadata": {},
   "outputs": [
    {
     "name": "stderr",
     "output_type": "stream",
     "text": [
      "  1%|          | 4/423 [00:01<02:20,  2.98it/s]"
     ]
    },
    {
     "name": "stdout",
     "output_type": "stream",
     "text": [
      "An error occurred while verifying ../data/whitepapers/3_tether.pdf. Error: EOF marker not found\n"
     ]
    },
    {
     "name": "stderr",
     "output_type": "stream",
     "text": [
      "  7%|▋         | 31/423 [00:04<00:35, 10.92it/s]"
     ]
    },
    {
     "name": "stdout",
     "output_type": "stream",
     "text": [
      "An error occurred while verifying ../data/whitepapers/38_stellar.pdf. Error: EOF marker not found\n"
     ]
    },
    {
     "name": "stderr",
     "output_type": "stream",
     "text": [
      "  8%|▊         | 33/423 [00:05<00:41,  9.50it/s]"
     ]
    },
    {
     "name": "stdout",
     "output_type": "stream",
     "text": [
      "An error occurred while verifying ../data/whitepapers/39_monero.pdf. Error: EOF marker not found\n"
     ]
    },
    {
     "name": "stderr",
     "output_type": "stream",
     "text": [
      " 12%|█▏        | 51/423 [00:11<03:09,  1.96it/s]"
     ]
    },
    {
     "name": "stdout",
     "output_type": "stream",
     "text": [
      "An error occurred while verifying ../data/whitepapers/61_fetch.pdf. Error: EOF marker not found\n"
     ]
    },
    {
     "name": "stderr",
     "output_type": "stream",
     "text": [
      " 13%|█▎        | 54/423 [00:12<02:30,  2.45it/s]"
     ]
    },
    {
     "name": "stdout",
     "output_type": "stream",
     "text": [
      "An error occurred while verifying ../data/whitepapers/66_aave.pdf. Error: EOF marker not found\n"
     ]
    },
    {
     "name": "stderr",
     "output_type": "stream",
     "text": [
      " 13%|█▎        | 55/423 [00:12<02:34,  2.39it/s]"
     ]
    },
    {
     "name": "stdout",
     "output_type": "stream",
     "text": [
      "An error occurred while verifying ../data/whitepapers/67_sei.pdf. Error: EOF marker not found\n"
     ]
    },
    {
     "name": "stderr",
     "output_type": "stream",
     "text": [
      " 16%|█▌        | 68/423 [00:16<02:24,  2.46it/s]"
     ]
    },
    {
     "name": "stdout",
     "output_type": "stream",
     "text": [
      "An error occurred while verifying ../data/whitepapers/87_the-sandbox.pdf. Error: EOF marker not found\n"
     ]
    },
    {
     "name": "stderr",
     "output_type": "stream",
     "text": [
      " 18%|█▊        | 78/423 [00:19<02:00,  2.85it/s]"
     ]
    },
    {
     "name": "stdout",
     "output_type": "stream",
     "text": [
      "An error occurred while verifying ../data/whitepapers/100_gnosis-gno.pdf. Error: EOF marker not found\n"
     ]
    },
    {
     "name": "stderr",
     "output_type": "stream",
     "text": [
      " 19%|█▉        | 81/423 [00:19<01:37,  3.52it/s]"
     ]
    },
    {
     "name": "stdout",
     "output_type": "stream",
     "text": [
      "An error occurred while verifying ../data/whitepapers/104_nexo.pdf. Error: EOF marker not found\n"
     ]
    },
    {
     "name": "stderr",
     "output_type": "stream",
     "text": [
      " 21%|██        | 87/423 [00:20<00:58,  5.77it/s]"
     ]
    },
    {
     "name": "stdout",
     "output_type": "stream",
     "text": [
      "An error occurred while verifying ../data/whitepapers/112_dexe.pdf. Error: EOF marker not found\n"
     ]
    },
    {
     "name": "stderr",
     "output_type": "stream",
     "text": [
      " 21%|██        | 88/423 [00:21<01:17,  4.30it/s]"
     ]
    },
    {
     "name": "stdout",
     "output_type": "stream",
     "text": [
      "An error occurred while verifying ../data/whitepapers/113_iota.pdf. Error: EOF marker not found\n"
     ]
    },
    {
     "name": "stderr",
     "output_type": "stream",
     "text": [
      " 22%|██▏       | 91/423 [00:21<00:59,  5.55it/s]"
     ]
    },
    {
     "name": "stdout",
     "output_type": "stream",
     "text": [
      "Failed to download ../data/whitepapers/116_usdd.pdf, with url: https://usdd.network/USDD-en.pdf\n"
     ]
    },
    {
     "name": "stderr",
     "output_type": "stream",
     "text": [
      " 22%|██▏       | 93/423 [00:21<01:08,  4.84it/s]"
     ]
    },
    {
     "name": "stdout",
     "output_type": "stream",
     "text": [
      "Failed to download ../data/whitepapers/118_axelar.pdf, with url: https://axelar.network/wp-content/uploads/2021/07/axelar_whitepaper.pdf\n"
     ]
    },
    {
     "name": "stderr",
     "output_type": "stream",
     "text": [
      " 27%|██▋       | 116/423 [00:23<00:28, 10.93it/s]"
     ]
    },
    {
     "name": "stdout",
     "output_type": "stream",
     "text": [
      "Failed to download ../data/whitepapers/152_raydium.pdf, with url: https://raydium.io/Raydium-Litepaper.pdf\n",
      "Failed to download ../data/whitepapers/153_0x.pdf, with url: https://0xproject.com/pdfs/0x_white_paper.pdf\n"
     ]
    },
    {
     "name": "stderr",
     "output_type": "stream",
     "text": [
      " 30%|███       | 129/423 [00:25<00:29,  9.95it/s]"
     ]
    },
    {
     "name": "stdout",
     "output_type": "stream",
     "text": [
      "An error occurred while verifying ../data/whitepapers/166_zcash.pdf. Error: EOF marker not found\n"
     ]
    },
    {
     "name": "stderr",
     "output_type": "stream",
     "text": [
      " 33%|███▎      | 140/423 [00:26<00:24, 11.34it/s]"
     ]
    },
    {
     "name": "stdout",
     "output_type": "stream",
     "text": [
      "An error occurred while verifying ../data/whitepapers/181_arcblock.pdf. Error: EOF marker not found\n"
     ]
    },
    {
     "name": "stderr",
     "output_type": "stream",
     "text": [
      " 37%|███▋      | 157/423 [00:31<00:30,  8.79it/s]"
     ]
    },
    {
     "name": "stdout",
     "output_type": "stream",
     "text": [
      "Failed to download ../data/whitepapers/200_centrifuge.pdf, with url: https://centrifuge.io/cfg_token_summary.pdf\n"
     ]
    },
    {
     "name": "stderr",
     "output_type": "stream",
     "text": [
      " 45%|████▌     | 191/423 [03:26<15:44,  4.07s/it]  "
     ]
    },
    {
     "name": "stdout",
     "output_type": "stream",
     "text": [
      "Failed to download ../data/whitepapers/257_telcoin.pdf, with url: https://www.telco.in/docs/whitepaper.pdf\n"
     ]
    },
    {
     "name": "stderr",
     "output_type": "stream",
     "text": [
      " 48%|████▊     | 202/423 [03:28<05:58,  1.62s/it]"
     ]
    },
    {
     "name": "stdout",
     "output_type": "stream",
     "text": [
      "Failed to download ../data/whitepapers/273_band-protocol.pdf, with url: https://bandprotocol.com/whitepaper-3.0.1.pdf\n"
     ]
    },
    {
     "name": "stderr",
     "output_type": "stream",
     "text": [
      " 49%|████▉     | 208/423 [03:31<04:08,  1.16s/it]"
     ]
    },
    {
     "name": "stdout",
     "output_type": "stream",
     "text": [
      "Failed to download ../data/whitepapers/279_rlc.pdf, with url: https://iex.ec/app/uploads/2017/04/iExec-WPv2.0-English.pdf\n"
     ]
    },
    {
     "name": "stderr",
     "output_type": "stream",
     "text": [
      " 52%|█████▏    | 219/423 [03:32<01:27,  2.32it/s]"
     ]
    },
    {
     "name": "stdout",
     "output_type": "stream",
     "text": [
      "Failed to download ../data/whitepapers/294_beldex.pdf, with url: https://beldex.io/whitepaper.pdf\n"
     ]
    },
    {
     "name": "stderr",
     "output_type": "stream",
     "text": [
      " 55%|█████▍    | 232/423 [03:35<00:54,  3.51it/s]"
     ]
    },
    {
     "name": "stdout",
     "output_type": "stream",
     "text": [
      "Failed to download ../data/whitepapers/308_prom.pdf, with url: https://prom.io/whitepaper.pdf\n"
     ]
    },
    {
     "name": "stderr",
     "output_type": "stream",
     "text": [
      " 57%|█████▋    | 241/423 [03:35<00:30,  5.90it/s]"
     ]
    },
    {
     "name": "stdout",
     "output_type": "stream",
     "text": [
      "An error occurred while verifying ../data/whitepapers/317_digibyte.pdf. Error: EOF marker not found\n",
      "Failed to download ../data/whitepapers/318_propy.pdf, with url: https://tokensale.propy.com/Propy-White-Paper-17-Jul-2017.pdf\n"
     ]
    },
    {
     "name": "stderr",
     "output_type": "stream",
     "text": [
      " 58%|█████▊    | 244/423 [03:36<00:25,  6.90it/s]"
     ]
    },
    {
     "name": "stdout",
     "output_type": "stream",
     "text": [
      "An error occurred while downloading ../data/whitepapers/326_wavax.pdf, HTTPSConnectionPool(host='files.avalabs.org', port=443): Max retries exceeded with url: /papers/consensus.pdf (Caused by NameResolutionError(\"<urllib3.connection.HTTPSConnection object at 0x120069900>: Failed to resolve 'files.avalabs.org' ([Errno 8] nodename nor servname provided, or not known)\"))\n"
     ]
    },
    {
     "name": "stderr",
     "output_type": "stream",
     "text": [
      " 60%|█████▉    | 252/423 [03:37<00:25,  6.81it/s]"
     ]
    },
    {
     "name": "stdout",
     "output_type": "stream",
     "text": [
      "Failed to download ../data/whitepapers/336_venus.pdf, with url: https://venus.io/Whitepaper.pdf\n"
     ]
    },
    {
     "name": "stderr",
     "output_type": "stream",
     "text": [
      " 60%|██████    | 255/423 [03:38<00:25,  6.70it/s]"
     ]
    },
    {
     "name": "stdout",
     "output_type": "stream",
     "text": [
      "An error occurred while downloading ../data/whitepapers/342_flex.pdf, HTTPSConnectionPool(host='coinflex.com', port=443): Max retries exceeded with url: /documents/CoinFLEX-Whitepaper.pdf (Caused by NameResolutionError(\"<urllib3.connection.HTTPSConnection object at 0x12006ac20>: Failed to resolve 'coinflex.com' ([Errno 8] nodename nor servname provided, or not known)\"))\n"
     ]
    },
    {
     "name": "stderr",
     "output_type": "stream",
     "text": [
      " 64%|██████▎   | 269/423 [03:39<00:18,  8.46it/s]"
     ]
    },
    {
     "name": "stdout",
     "output_type": "stream",
     "text": [
      "Failed to download ../data/whitepapers/363_world-mobile-token.pdf, with url: https://worldmobiletoken.com/WhitePaper.pdf\n"
     ]
    },
    {
     "name": "stderr",
     "output_type": "stream",
     "text": [
      " 64%|██████▍   | 271/423 [03:40<00:27,  5.46it/s]"
     ]
    },
    {
     "name": "stdout",
     "output_type": "stream",
     "text": [
      "An error occurred while verifying ../data/whitepapers/365_vulcan-forged-pyr.pdf. Error: EOF marker not found\n"
     ]
    },
    {
     "name": "stderr",
     "output_type": "stream",
     "text": [
      " 68%|██████▊   | 286/423 [03:42<00:15,  8.79it/s]"
     ]
    },
    {
     "name": "stdout",
     "output_type": "stream",
     "text": [
      "An error occurred while verifying ../data/whitepapers/385_paxos-standard.pdf. Error: EOF marker not found\n"
     ]
    },
    {
     "name": "stderr",
     "output_type": "stream",
     "text": [
      " 69%|██████▊   | 290/423 [03:42<00:13,  9.83it/s]"
     ]
    },
    {
     "name": "stdout",
     "output_type": "stream",
     "text": [
      "Failed to download ../data/whitepapers/389_stratis-new.pdf, with url: https://www.stratisplatform.com/files/Stratis_Whitepaper.pdf\n"
     ]
    },
    {
     "name": "stderr",
     "output_type": "stream",
     "text": [
      " 69%|██████▉   | 292/423 [03:43<00:18,  7.13it/s]"
     ]
    },
    {
     "name": "stdout",
     "output_type": "stream",
     "text": [
      "Failed to download ../data/whitepapers/390_ark.pdf, with url: https://arkscic.com/Whitepaper.pdf\n"
     ]
    },
    {
     "name": "stderr",
     "output_type": "stream",
     "text": [
      " 70%|██████▉   | 294/423 [03:43<00:18,  6.84it/s]"
     ]
    },
    {
     "name": "stdout",
     "output_type": "stream",
     "text": [
      "An error occurred while verifying ../data/whitepapers/396_pundix-new.pdf. Error: EOF marker not found\n"
     ]
    },
    {
     "name": "stderr",
     "output_type": "stream",
     "text": [
      " 70%|███████   | 298/423 [03:43<00:16,  7.71it/s]"
     ]
    },
    {
     "name": "stdout",
     "output_type": "stream",
     "text": [
      "An error occurred while verifying ../data/whitepapers/403_status.pdf. Error: EOF marker not found\n"
     ]
    },
    {
     "name": "stderr",
     "output_type": "stream",
     "text": [
      " 71%|███████   | 301/423 [03:44<00:18,  6.58it/s]"
     ]
    },
    {
     "name": "stdout",
     "output_type": "stream",
     "text": [
      "Failed to download ../data/whitepapers/407_velo.pdf, with url: https://velo.org/doc/Velo_Whitepaper_EN.pdf\n"
     ]
    },
    {
     "name": "stderr",
     "output_type": "stream",
     "text": [
      " 72%|███████▏  | 304/423 [03:45<00:27,  4.34it/s]"
     ]
    },
    {
     "name": "stdout",
     "output_type": "stream",
     "text": [
      "An error occurred while verifying ../data/whitepapers/411_stargate-finance.pdf. Error: EOF marker not found\n"
     ]
    },
    {
     "name": "stderr",
     "output_type": "stream",
     "text": [
      " 76%|███████▌  | 321/423 [03:47<00:11,  9.13it/s]"
     ]
    },
    {
     "name": "stdout",
     "output_type": "stream",
     "text": [
      "An error occurred while verifying ../data/whitepapers/433_wink.pdf. Error: EOF marker not found\n"
     ]
    },
    {
     "name": "stderr",
     "output_type": "stream",
     "text": [
      " 78%|███████▊  | 328/423 [03:50<00:19,  4.84it/s]"
     ]
    },
    {
     "name": "stdout",
     "output_type": "stream",
     "text": [
      "An error occurred while verifying ../data/whitepapers/442_bazaars.pdf. Error: EOF marker not found\n"
     ]
    },
    {
     "name": "stderr",
     "output_type": "stream",
     "text": [
      " 80%|███████▉  | 338/423 [03:52<00:17,  4.73it/s]"
     ]
    },
    {
     "name": "stdout",
     "output_type": "stream",
     "text": [
      "Failed to download ../data/whitepapers/454_dkargo.pdf, with url: https://dkargo.io/resources/dkargo_wp_en_new.pdf\n",
      "Failed to download ../data/whitepapers/460_mines-of-dalarnia.pdf, with url: https://www.minesofdalarnia.com/assets/MoD-Litepaper-updated-27-Oct.pdf\n"
     ]
    },
    {
     "name": "stderr",
     "output_type": "stream",
     "text": [
      " 80%|████████  | 340/423 [03:52<00:16,  5.06it/s]"
     ]
    },
    {
     "name": "stdout",
     "output_type": "stream",
     "text": [
      "An error occurred while verifying ../data/whitepapers/461_orchid.pdf. Error: EOF marker not found\n",
      "An error occurred while verifying ../data/whitepapers/463_bluzelle.pdf. Error: EOF marker not found\n"
     ]
    },
    {
     "name": "stderr",
     "output_type": "stream",
     "text": [
      " 84%|████████▍ | 356/423 [03:54<00:08,  8.17it/s]"
     ]
    },
    {
     "name": "stdout",
     "output_type": "stream",
     "text": [
      "Failed to download ../data/whitepapers/484_medibloc.pdf, with url: https://medibloc-homepage.oss-us-west-1.aliyuncs.com/whitepaper/medibloc_whitepaper_en.pdf\n"
     ]
    },
    {
     "name": "stderr",
     "output_type": "stream",
     "text": [
      " 87%|████████▋ | 367/423 [03:58<00:12,  4.39it/s]"
     ]
    },
    {
     "name": "stdout",
     "output_type": "stream",
     "text": [
      "Failed to download ../data/whitepapers/502_energy-web-token.pdf, with url: https://www.energyweb.org/wp-content/uploads/2019/12/EnergyWeb-EWDOS-VisionPurpose-vFinal-20191211.pdf\n"
     ]
    },
    {
     "name": "stderr",
     "output_type": "stream",
     "text": [
      " 90%|█████████ | 382/423 [04:00<00:10,  3.76it/s]"
     ]
    },
    {
     "name": "stdout",
     "output_type": "stream",
     "text": [
      "Failed to download ../data/whitepapers/520_veruscoin.pdf, with url: https://veruscoin.io/downloads/papers/VerusVision.pdf\n"
     ]
    },
    {
     "name": "stderr",
     "output_type": "stream",
     "text": [
      " 93%|█████████▎| 392/423 [04:02<00:05,  5.70it/s]"
     ]
    },
    {
     "name": "stdout",
     "output_type": "stream",
     "text": [
      "Failed to download ../data/whitepapers/530_ren.pdf, with url: https://renproject.io/litepaper.pdf\n"
     ]
    },
    {
     "name": "stderr",
     "output_type": "stream",
     "text": [
      " 94%|█████████▍| 398/423 [05:44<03:54,  9.39s/it]"
     ]
    },
    {
     "name": "stdout",
     "output_type": "stream",
     "text": [
      "An error occurred while verifying ../data/whitepapers/543_memetoon.pdf. Error: EOF marker not found\n"
     ]
    },
    {
     "name": "stderr",
     "output_type": "stream",
     "text": [
      "100%|██████████| 423/423 [05:52<00:00,  1.20it/s]\n"
     ]
    }
   ],
   "source": [
    "# Function to download PDF\n",
    "def download_pdf(url, file_name):\n",
    "    try:\n",
    "        response = requests.get(url)\n",
    "        if response.status_code == 200:\n",
    "            with open(file_name, 'wb') as file:\n",
    "                file.write(response.content)\n",
    "                \n",
    "            if not verify_pdf(file_name):\n",
    "                invalid_file_name = file_name.replace('.pdf', '_invalid.pdf')\n",
    "                os.rename(file_name, invalid_file_name)\n",
    "            \n",
    "        else:\n",
    "            print(f'Failed to download {file_name}, with url: {url}')\n",
    "    except Exception as e:\n",
    "        print(f'An error occurred while downloading {file_name}, {e}')\n",
    "        # traceback.print_exc()\n",
    "        \n",
    "# Function to verify PDF structure\n",
    "def verify_pdf(file_name):\n",
    "    try:\n",
    "        with open(file_name, 'rb') as file:\n",
    "            reader = PyPDF2.PdfReader(file)\n",
    "            # Check if the PDF has at least one page\n",
    "            if len(reader.pages) > 0:\n",
    "                return True\n",
    "            else:\n",
    "                return False\n",
    "    except Exception as e:\n",
    "        print(f'An error occurred while verifying {file_name}. Error: {e}')\n",
    "        # traceback.print_exc()\n",
    "        return False\n",
    "        \n",
    "\n",
    "for index, row in tqdm(df.iterrows(), total=df.shape[0]):\n",
    "    url = row['whitepaper_link']\n",
    "    if '.pdf' not in url:\n",
    "        continue\n",
    "    file_name = f\"../data/whitepapers/{index + 1}_{row['slug']}.pdf\"\n",
    "    if not os.path.exists(file_name):\n",
    "        download_pdf(url, file_name)\n",
    "    \n",
    "    "
   ]
  },
  {
   "cell_type": "code",
   "execution_count": null,
   "metadata": {},
   "outputs": [],
   "source": []
  },
  {
   "cell_type": "markdown",
   "metadata": {},
   "source": []
  }
 ],
 "metadata": {
  "kernelspec": {
   "display_name": "env",
   "language": "python",
   "name": "python3"
  },
  "language_info": {
   "codemirror_mode": {
    "name": "ipython",
    "version": 3
   },
   "file_extension": ".py",
   "mimetype": "text/x-python",
   "name": "python",
   "nbconvert_exporter": "python",
   "pygments_lexer": "ipython3",
   "version": "3.10.14"
  }
 },
 "nbformat": 4,
 "nbformat_minor": 2
}
