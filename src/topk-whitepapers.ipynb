{
 "cells": [
  {
   "cell_type": "markdown",
   "metadata": {},
   "source": [
    "#### Import Dependencies"
   ]
  },
  {
   "cell_type": "code",
   "execution_count": 1,
   "metadata": {},
   "outputs": [],
   "source": [
    "import requests\n",
    "from bs4 import BeautifulSoup\n",
    "import json, os\n",
    "import pandas as pd\n",
    "from tqdm import tqdm\n",
    "import traceback\n",
    "import PyPDF2\n",
    "\n",
    "pd.set_option('display.max_rows', None)\n",
    "pd.set_option('display.max_columns', None)\n",
    "pd.set_option('display.max_colwidth', None)\n",
    "pd.options.mode.chained_assignment = None"
   ]
  },
  {
   "cell_type": "markdown",
   "metadata": {},
   "source": [
    "#### Collect Crypto Data\n",
    "- Get data for top 5k crypto by marketcap from coinmarketcap.com\n",
    "- Save data to a file (Prevent usage of Api limit)"
   ]
  },
  {
   "cell_type": "code",
   "execution_count": 2,
   "metadata": {},
   "outputs": [],
   "source": [
    "def get_top_5k_cryptos() -> pd.DataFrame:\n",
    "    \n",
    "    api_key = '1d13c476-343c-4717-b648-8a4a1b939b42'\n",
    "    url = 'https://pro-api.coinmarketcap.com/v1/cryptocurrency/listings/latest'\n",
    "\n",
    "    headers = {\n",
    "        'Accepts': 'application/json',\n",
    "        'X-CMC_PRO_API_KEY': api_key,\n",
    "    }\n",
    "    \n",
    "    params = {\n",
    "        'start': '1',\n",
    "        'limit': '5000',  # You can adjust this to get more or fewer listings\n",
    "        'convert': 'USD',\n",
    "        'sort': 'market_cap'\n",
    "    }\n",
    "    \n",
    "    response = requests.get(url, headers=headers, params=params)\n",
    "    data = response.json()\n",
    "\n",
    "    if response.status_code == 200:\n",
    "        df = pd.DataFrame(data['data'])\n",
    "        return df\n",
    "        print(f'Data Saved..')\n",
    "    else:\n",
    "        print(f\"Error {response.status_code}: {data['status']['error_message']}\")\n",
    "        \n",
    "# df = get_top_5k_cryptos()\n",
    "# df.to_csv('../data/topk_crypto.csv', index=False)\n",
    "# print('Collected top 5k crypto.')"
   ]
  },
  {
   "cell_type": "markdown",
   "metadata": {},
   "source": [
    "#### Load the dataset"
   ]
  },
  {
   "cell_type": "code",
   "execution_count": 3,
   "metadata": {},
   "outputs": [
    {
     "name": "stdout",
     "output_type": "stream",
     "text": [
      "Dimensions of the sataset: (1000, 18)\n"
     ]
    },
    {
     "data": {
      "text/html": [
       "<div>\n",
       "<style scoped>\n",
       "    .dataframe tbody tr th:only-of-type {\n",
       "        vertical-align: middle;\n",
       "    }\n",
       "\n",
       "    .dataframe tbody tr th {\n",
       "        vertical-align: top;\n",
       "    }\n",
       "\n",
       "    .dataframe thead th {\n",
       "        text-align: right;\n",
       "    }\n",
       "</style>\n",
       "<table border=\"1\" class=\"dataframe\">\n",
       "  <thead>\n",
       "    <tr style=\"text-align: right;\">\n",
       "      <th></th>\n",
       "      <th>id</th>\n",
       "      <th>name</th>\n",
       "      <th>symbol</th>\n",
       "      <th>slug</th>\n",
       "      <th>num_market_pairs</th>\n",
       "      <th>date_added</th>\n",
       "      <th>tags</th>\n",
       "      <th>max_supply</th>\n",
       "      <th>circulating_supply</th>\n",
       "      <th>total_supply</th>\n",
       "      <th>infinite_supply</th>\n",
       "      <th>platform</th>\n",
       "      <th>cmc_rank</th>\n",
       "      <th>self_reported_circulating_supply</th>\n",
       "      <th>self_reported_market_cap</th>\n",
       "      <th>tvl_ratio</th>\n",
       "      <th>last_updated</th>\n",
       "      <th>quote</th>\n",
       "    </tr>\n",
       "  </thead>\n",
       "  <tbody>\n",
       "    <tr>\n",
       "      <th>420</th>\n",
       "      <td>22461</td>\n",
       "      <td>Hashflow</td>\n",
       "      <td>HFT</td>\n",
       "      <td>hashflow</td>\n",
       "      <td>110</td>\n",
       "      <td>2022-10-31T07:02:20.000Z</td>\n",
       "      <td>['collectibles-nfts', 'decentralized-exchange-dex-token', 'defi', 'gaming', 'interoperability', 'dao', 'ethereum-ecosystem', 'binance-smart-chain', 'dex', 'binance-launchpool', 'coinbase-ventures-portfolio', 'avalanche-ecosystem', 'solana-ecosystem', 'dcg-portfolio', 'dragonfly-capital-portfolio', 'electric-capital-portfolio', 'fabric-ventures-portfolio', 'galaxy-digital-portfolio', 'polygon-ecosystem', 'arbitrum-ecosytem', 'cross-chain', 'optimism-ecosystem', 'jump-crypto', 'dwf-labs-portfolio']</td>\n",
       "      <td>NaN</td>\n",
       "      <td>4.067458e+08</td>\n",
       "      <td>1.000000e+09</td>\n",
       "      <td>False</td>\n",
       "      <td>{'id': 1027, 'name': 'Ethereum', 'symbol': 'ETH', 'slug': 'ethereum', 'token_address': '0xb3999F658C0391d94A37f7FF328F3feC942BcADC'}</td>\n",
       "      <td>421</td>\n",
       "      <td>NaN</td>\n",
       "      <td>NaN</td>\n",
       "      <td>NaN</td>\n",
       "      <td>2024-06-06T04:12:00.000Z</td>\n",
       "      <td>{'USD': {'price': 0.3134934681213295, 'volume_24h': 6482437.38145102, 'volume_change_24h': -41.6085, 'percent_change_1h': -0.51438079, 'percent_change_24h': -0.35324347, 'percent_change_7d': 5.31047042, 'percent_change_30d': -1.58063837, 'percent_change_60d': -23.96552503, 'percent_change_90d': -35.48488846, 'market_cap': 127512156.10134901, 'market_cap_dominance': 0.0048, 'fully_diluted_market_cap': 313493468.12, 'tvl': None, 'last_updated': '2024-06-06T04:12:00.000Z'}}</td>\n",
       "    </tr>\n",
       "  </tbody>\n",
       "</table>\n",
       "</div>"
      ],
      "text/plain": [
       "        id      name symbol      slug  num_market_pairs  \\\n",
       "420  22461  Hashflow    HFT  hashflow               110   \n",
       "\n",
       "                   date_added  \\\n",
       "420  2022-10-31T07:02:20.000Z   \n",
       "\n",
       "                                                                                                                                                                                                                                                                                                                                                                                                                                                                                                                      tags  \\\n",
       "420  ['collectibles-nfts', 'decentralized-exchange-dex-token', 'defi', 'gaming', 'interoperability', 'dao', 'ethereum-ecosystem', 'binance-smart-chain', 'dex', 'binance-launchpool', 'coinbase-ventures-portfolio', 'avalanche-ecosystem', 'solana-ecosystem', 'dcg-portfolio', 'dragonfly-capital-portfolio', 'electric-capital-portfolio', 'fabric-ventures-portfolio', 'galaxy-digital-portfolio', 'polygon-ecosystem', 'arbitrum-ecosytem', 'cross-chain', 'optimism-ecosystem', 'jump-crypto', 'dwf-labs-portfolio']   \n",
       "\n",
       "     max_supply  circulating_supply  total_supply  infinite_supply  \\\n",
       "420         NaN        4.067458e+08  1.000000e+09            False   \n",
       "\n",
       "                                                                                                                                 platform  \\\n",
       "420  {'id': 1027, 'name': 'Ethereum', 'symbol': 'ETH', 'slug': 'ethereum', 'token_address': '0xb3999F658C0391d94A37f7FF328F3feC942BcADC'}   \n",
       "\n",
       "     cmc_rank  self_reported_circulating_supply  self_reported_market_cap  \\\n",
       "420       421                               NaN                       NaN   \n",
       "\n",
       "     tvl_ratio              last_updated  \\\n",
       "420        NaN  2024-06-06T04:12:00.000Z   \n",
       "\n",
       "                                                                                                                                                                                                                                                                                                                                                                                                                                                                                           quote  \n",
       "420  {'USD': {'price': 0.3134934681213295, 'volume_24h': 6482437.38145102, 'volume_change_24h': -41.6085, 'percent_change_1h': -0.51438079, 'percent_change_24h': -0.35324347, 'percent_change_7d': 5.31047042, 'percent_change_30d': -1.58063837, 'percent_change_60d': -23.96552503, 'percent_change_90d': -35.48488846, 'market_cap': 127512156.10134901, 'market_cap_dominance': 0.0048, 'fully_diluted_market_cap': 313493468.12, 'tvl': None, 'last_updated': '2024-06-06T04:12:00.000Z'}}  "
      ]
     },
     "metadata": {},
     "output_type": "display_data"
    }
   ],
   "source": [
    "k = 1000\n",
    "df = pd.read_csv('../data/topk_crypto.csv').head(k)\n",
    "print(f'Dimensions of the sataset: {df.shape}')\n",
    "display(df.sample(1))\n"
   ]
  },
  {
   "cell_type": "markdown",
   "metadata": {},
   "source": [
    "#### Get whitepaper links for each of the topk cryptos"
   ]
  },
  {
   "cell_type": "code",
   "execution_count": 4,
   "metadata": {},
   "outputs": [],
   "source": [
    "def get_whitepaper_link(slug):\n",
    "    url = f'https://coinmarketcap.com/currencies/{slug}/'\n",
    "    response = requests.get(url)\n",
    "    if response.status_code != 200:\n",
    "        return None\n",
    "    \n",
    "    soup = BeautifulSoup(response.content, 'html.parser')\n",
    "    \n",
    "    divs = soup.find_all('div', class_='sc-d1ede7e3-0 sc-7f0f401-0 gRSwoF gQoblf')\n",
    "    \n",
    "    for div in divs:\n",
    "        if 'whitepaper' not in div.get_text().lower():\n",
    "            continue\n",
    "        \n",
    "        # Find the whitepaper link within this div\n",
    "        for a_tag in div.find_all('a', href=True):\n",
    "            return a_tag['href']\n",
    "    \n",
    "    return None\n",
    "\n",
    "# tqdm.pandas()\n",
    "# df['whitepaper_link'] = df['slug'].progress_apply(get_whitepaper_link)\n",
    "# df.to_csv(f'../data/top{k}_crypto_w_whitepaper_link.csv', index=False)\n"
   ]
  },
  {
   "cell_type": "markdown",
   "metadata": {},
   "source": [
    "#### Loading dataset with whitepaper links"
   ]
  },
  {
   "cell_type": "code",
   "execution_count": 5,
   "metadata": {},
   "outputs": [
    {
     "name": "stdout",
     "output_type": "stream",
     "text": [
      "Shape of dataframe:  (423, 17)\n",
      "Number of whitepaper links:  413\n"
     ]
    },
    {
     "data": {
      "text/html": [
       "<div>\n",
       "<style scoped>\n",
       "    .dataframe tbody tr th:only-of-type {\n",
       "        vertical-align: middle;\n",
       "    }\n",
       "\n",
       "    .dataframe tbody tr th {\n",
       "        vertical-align: top;\n",
       "    }\n",
       "\n",
       "    .dataframe thead th {\n",
       "        text-align: right;\n",
       "    }\n",
       "</style>\n",
       "<table border=\"1\" class=\"dataframe\">\n",
       "  <thead>\n",
       "    <tr style=\"text-align: right;\">\n",
       "      <th></th>\n",
       "      <th>id</th>\n",
       "      <th>name</th>\n",
       "      <th>symbol</th>\n",
       "      <th>slug</th>\n",
       "      <th>num_market_pairs</th>\n",
       "      <th>date_added</th>\n",
       "      <th>max_supply</th>\n",
       "      <th>circulating_supply</th>\n",
       "      <th>total_supply</th>\n",
       "      <th>infinite_supply</th>\n",
       "      <th>platform</th>\n",
       "      <th>cmc_rank</th>\n",
       "      <th>self_reported_circulating_supply</th>\n",
       "      <th>self_reported_market_cap</th>\n",
       "      <th>tvl_ratio</th>\n",
       "      <th>last_updated</th>\n",
       "      <th>whitepaper_link</th>\n",
       "    </tr>\n",
       "  </thead>\n",
       "  <tbody>\n",
       "    <tr>\n",
       "      <th>0</th>\n",
       "      <td>1</td>\n",
       "      <td>Bitcoin</td>\n",
       "      <td>BTC</td>\n",
       "      <td>bitcoin</td>\n",
       "      <td>11101</td>\n",
       "      <td>2010-07-13T00:00:00.000Z</td>\n",
       "      <td>21000000.0</td>\n",
       "      <td>1.970808e+07</td>\n",
       "      <td>1.970808e+07</td>\n",
       "      <td>False</td>\n",
       "      <td>NaN</td>\n",
       "      <td>1</td>\n",
       "      <td>NaN</td>\n",
       "      <td>NaN</td>\n",
       "      <td>NaN</td>\n",
       "      <td>2024-06-06T04:12:00.000Z</td>\n",
       "      <td>https://bitcoin.org/bitcoin.pdf</td>\n",
       "    </tr>\n",
       "    <tr>\n",
       "      <th>1</th>\n",
       "      <td>1027</td>\n",
       "      <td>Ethereum</td>\n",
       "      <td>ETH</td>\n",
       "      <td>ethereum</td>\n",
       "      <td>9038</td>\n",
       "      <td>2015-08-07T00:00:00.000Z</td>\n",
       "      <td>NaN</td>\n",
       "      <td>1.201491e+08</td>\n",
       "      <td>1.201491e+08</td>\n",
       "      <td>True</td>\n",
       "      <td>NaN</td>\n",
       "      <td>2</td>\n",
       "      <td>NaN</td>\n",
       "      <td>NaN</td>\n",
       "      <td>NaN</td>\n",
       "      <td>2024-06-06T04:12:00.000Z</td>\n",
       "      <td>https://ethereum.org/en/whitepaper/</td>\n",
       "    </tr>\n",
       "    <tr>\n",
       "      <th>2</th>\n",
       "      <td>825</td>\n",
       "      <td>Tether USDt</td>\n",
       "      <td>USDT</td>\n",
       "      <td>tether</td>\n",
       "      <td>87800</td>\n",
       "      <td>2015-02-25T00:00:00.000Z</td>\n",
       "      <td>NaN</td>\n",
       "      <td>1.123921e+11</td>\n",
       "      <td>1.150861e+11</td>\n",
       "      <td>True</td>\n",
       "      <td>{'id': 1027, 'name': 'Ethereum', 'symbol': 'ETH', 'slug': 'ethereum', 'token_address': '0xdac17f958d2ee523a2206206994597c13d831ec7'}</td>\n",
       "      <td>3</td>\n",
       "      <td>NaN</td>\n",
       "      <td>NaN</td>\n",
       "      <td>NaN</td>\n",
       "      <td>2024-06-06T04:12:00.000Z</td>\n",
       "      <td>https://assets.ctfassets.net/vyse88cgwfbl/5UWgHMvz071t2Cq5yTw5vi/c9798ea8db99311bf90ebe0810938b01/TetherWhitePaper.pdf</td>\n",
       "    </tr>\n",
       "    <tr>\n",
       "      <th>4</th>\n",
       "      <td>5426</td>\n",
       "      <td>Solana</td>\n",
       "      <td>SOL</td>\n",
       "      <td>solana</td>\n",
       "      <td>674</td>\n",
       "      <td>2020-04-10T00:00:00.000Z</td>\n",
       "      <td>NaN</td>\n",
       "      <td>4.599202e+08</td>\n",
       "      <td>5.775657e+08</td>\n",
       "      <td>True</td>\n",
       "      <td>NaN</td>\n",
       "      <td>5</td>\n",
       "      <td>NaN</td>\n",
       "      <td>NaN</td>\n",
       "      <td>NaN</td>\n",
       "      <td>2024-06-06T04:12:00.000Z</td>\n",
       "      <td>https://solana.com/solana-whitepaper.pdf</td>\n",
       "    </tr>\n",
       "    <tr>\n",
       "      <th>5</th>\n",
       "      <td>3408</td>\n",
       "      <td>USDC</td>\n",
       "      <td>USDC</td>\n",
       "      <td>usd-coin</td>\n",
       "      <td>19594</td>\n",
       "      <td>2018-10-08T00:00:00.000Z</td>\n",
       "      <td>NaN</td>\n",
       "      <td>3.260113e+10</td>\n",
       "      <td>3.260113e+10</td>\n",
       "      <td>False</td>\n",
       "      <td>{'id': 1027, 'name': 'Ethereum', 'symbol': 'ETH', 'slug': 'ethereum', 'token_address': '0xa0b86991c6218b36c1d19d4a2e9eb0ce3606eb48'}</td>\n",
       "      <td>6</td>\n",
       "      <td>NaN</td>\n",
       "      <td>NaN</td>\n",
       "      <td>NaN</td>\n",
       "      <td>2024-06-06T04:12:00.000Z</td>\n",
       "      <td>https://f.hubspotusercontent30.net/hubfs/9304636/PDF/centre-whitepaper.pdf</td>\n",
       "    </tr>\n",
       "  </tbody>\n",
       "</table>\n",
       "</div>"
      ],
      "text/plain": [
       "     id         name symbol      slug  num_market_pairs  \\\n",
       "0     1      Bitcoin    BTC   bitcoin             11101   \n",
       "1  1027     Ethereum    ETH  ethereum              9038   \n",
       "2   825  Tether USDt   USDT    tether             87800   \n",
       "4  5426       Solana    SOL    solana               674   \n",
       "5  3408         USDC   USDC  usd-coin             19594   \n",
       "\n",
       "                 date_added  max_supply  circulating_supply  total_supply  \\\n",
       "0  2010-07-13T00:00:00.000Z  21000000.0        1.970808e+07  1.970808e+07   \n",
       "1  2015-08-07T00:00:00.000Z         NaN        1.201491e+08  1.201491e+08   \n",
       "2  2015-02-25T00:00:00.000Z         NaN        1.123921e+11  1.150861e+11   \n",
       "4  2020-04-10T00:00:00.000Z         NaN        4.599202e+08  5.775657e+08   \n",
       "5  2018-10-08T00:00:00.000Z         NaN        3.260113e+10  3.260113e+10   \n",
       "\n",
       "   infinite_supply  \\\n",
       "0            False   \n",
       "1             True   \n",
       "2             True   \n",
       "4             True   \n",
       "5            False   \n",
       "\n",
       "                                                                                                                               platform  \\\n",
       "0                                                                                                                                   NaN   \n",
       "1                                                                                                                                   NaN   \n",
       "2  {'id': 1027, 'name': 'Ethereum', 'symbol': 'ETH', 'slug': 'ethereum', 'token_address': '0xdac17f958d2ee523a2206206994597c13d831ec7'}   \n",
       "4                                                                                                                                   NaN   \n",
       "5  {'id': 1027, 'name': 'Ethereum', 'symbol': 'ETH', 'slug': 'ethereum', 'token_address': '0xa0b86991c6218b36c1d19d4a2e9eb0ce3606eb48'}   \n",
       "\n",
       "   cmc_rank  self_reported_circulating_supply  self_reported_market_cap  \\\n",
       "0         1                               NaN                       NaN   \n",
       "1         2                               NaN                       NaN   \n",
       "2         3                               NaN                       NaN   \n",
       "4         5                               NaN                       NaN   \n",
       "5         6                               NaN                       NaN   \n",
       "\n",
       "   tvl_ratio              last_updated  \\\n",
       "0        NaN  2024-06-06T04:12:00.000Z   \n",
       "1        NaN  2024-06-06T04:12:00.000Z   \n",
       "2        NaN  2024-06-06T04:12:00.000Z   \n",
       "4        NaN  2024-06-06T04:12:00.000Z   \n",
       "5        NaN  2024-06-06T04:12:00.000Z   \n",
       "\n",
       "                                                                                                          whitepaper_link  \n",
       "0                                                                                         https://bitcoin.org/bitcoin.pdf  \n",
       "1                                                                                     https://ethereum.org/en/whitepaper/  \n",
       "2  https://assets.ctfassets.net/vyse88cgwfbl/5UWgHMvz071t2Cq5yTw5vi/c9798ea8db99311bf90ebe0810938b01/TetherWhitePaper.pdf  \n",
       "4                                                                                https://solana.com/solana-whitepaper.pdf  \n",
       "5                                              https://f.hubspotusercontent30.net/hubfs/9304636/PDF/centre-whitepaper.pdf  "
      ]
     },
     "metadata": {},
     "output_type": "display_data"
    }
   ],
   "source": [
    "df = pd.read_csv('../data/top1000_crypto_w_whitepaper_link.csv')\n",
    "extend_df = pd.read_csv('../data/whitepaper_link_corrections.csv')\n",
    "\n",
    "\n",
    "df = df.merge(extend_df, on='slug', how='left', suffixes=('', '_extend'))\n",
    "# Override the 'whitepaper_link' column with the values from 'whitepaper_link_extend'\n",
    "df['whitepaper_link'] = df['whitepaper_link_extend'].combine_first(df['whitepaper_link'])\n",
    "# Drop the extended 'whitepaper_link' column\n",
    "df = df.drop(columns=['whitepaper_link_extend'])\n",
    "\n",
    "df = df.drop(columns = ['tags', 'quote'])\n",
    "df = df[df['whitepaper_link'].notna()]\n",
    "print(f'Shape of dataframe: ', df.shape)\n",
    "print(f'Number of whitepaper links: ', df.whitepaper_link.nunique())\n",
    "display(df.head(5))\n"
   ]
  },
  {
   "cell_type": "markdown",
   "metadata": {},
   "source": [
    "#### Download Content"
   ]
  },
  {
   "cell_type": "code",
   "execution_count": 6,
   "metadata": {},
   "outputs": [
    {
     "name": "stderr",
     "output_type": "stream",
     "text": [
      "  5%|▌         | 23/423 [00:06<01:47,  3.74it/s]"
     ]
    },
    {
     "name": "stdout",
     "output_type": "stream",
     "text": [
      "Failed to download ../data/whitepapers/29_hedera.txt, with url: https://www.hedera.com/papers\n"
     ]
    },
    {
     "name": "stderr",
     "output_type": "stream",
     "text": [
      "  6%|▌         | 26/423 [00:07<01:40,  3.95it/s]"
     ]
    },
    {
     "name": "stdout",
     "output_type": "stream",
     "text": [
      "Failed to download ../data/whitepapers/33_immutable-x.txt, with url: https://support.immutable.com/hc/en-us/articles/4405227590799\n"
     ]
    },
    {
     "name": "stderr",
     "output_type": "stream",
     "text": [
      "  7%|▋         | 28/423 [00:07<01:35,  4.13it/s]"
     ]
    },
    {
     "name": "stdout",
     "output_type": "stream",
     "text": [
      "Failed to download ../data/whitepapers/35_cosmos.txt, with url: https://cosmos.network/resources/whitepaper\n"
     ]
    },
    {
     "name": "stderr",
     "output_type": "stream",
     "text": [
      "  7%|▋         | 31/423 [00:08<02:08,  3.04it/s]"
     ]
    },
    {
     "name": "stdout",
     "output_type": "stream",
     "text": [
      "An error occurred while verifying ../data/whitepapers/38_stellar.pdf. Error: EOF marker not found\n"
     ]
    },
    {
     "name": "stderr",
     "output_type": "stream",
     "text": [
      "  8%|▊         | 32/423 [00:08<02:08,  3.03it/s]"
     ]
    },
    {
     "name": "stdout",
     "output_type": "stream",
     "text": [
      "An error occurred while verifying ../data/whitepapers/39_monero.pdf. Error: EOF marker not found\n"
     ]
    },
    {
     "name": "stderr",
     "output_type": "stream",
     "text": [
      " 10%|▉         | 41/423 [00:14<03:27,  1.84it/s]"
     ]
    },
    {
     "name": "stdout",
     "output_type": "stream",
     "text": [
      "Failed to download ../data/whitepapers/51_fantom.txt, with url: https://fantom.foundation/fantom-research-papers/\n"
     ]
    },
    {
     "name": "stderr",
     "output_type": "stream",
     "text": [
      " 11%|█         | 45/423 [00:15<01:50,  3.42it/s]"
     ]
    },
    {
     "name": "stdout",
     "output_type": "stream",
     "text": [
      "Failed to download ../data/whitepapers/55_thorchain.txt, with url: https://github.com/thorchain/Resources/tree/master/Whitepapers/THORChain/whitepaper-en.md\n"
     ]
    },
    {
     "name": "stderr",
     "output_type": "stream",
     "text": [
      " 12%|█▏        | 50/423 [00:17<02:38,  2.36it/s]"
     ]
    },
    {
     "name": "stdout",
     "output_type": "stream",
     "text": [
      "An error occurred while verifying ../data/whitepapers/61_fetch.pdf. Error: EOF marker not found\n"
     ]
    },
    {
     "name": "stderr",
     "output_type": "stream",
     "text": [
      " 13%|█▎        | 54/423 [00:20<03:16,  1.88it/s]"
     ]
    },
    {
     "name": "stdout",
     "output_type": "stream",
     "text": [
      "An error occurred while verifying ../data/whitepapers/66_aave.pdf. Error: EOF marker not found\n"
     ]
    },
    {
     "name": "stderr",
     "output_type": "stream",
     "text": [
      " 13%|█▎        | 55/423 [00:20<03:13,  1.90it/s]"
     ]
    },
    {
     "name": "stdout",
     "output_type": "stream",
     "text": [
      "An error occurred while verifying ../data/whitepapers/67_sei.pdf. Error: EOF marker not found\n"
     ]
    },
    {
     "name": "stderr",
     "output_type": "stream",
     "text": [
      " 16%|█▋        | 69/423 [00:29<04:39,  1.26it/s]"
     ]
    },
    {
     "name": "stdout",
     "output_type": "stream",
     "text": [
      "An error occurred while verifying ../data/whitepapers/87_the-sandbox.pdf. Error: EOF marker not found\n"
     ]
    },
    {
     "name": "stderr",
     "output_type": "stream",
     "text": [
      " 17%|█▋        | 72/423 [00:29<02:39,  2.21it/s]"
     ]
    },
    {
     "name": "stdout",
     "output_type": "stream",
     "text": [
      "Failed to download ../data/whitepapers/90_mina.txt, with url: https://minaprotocol.com/docs\n",
      "Failed to download ../data/whitepapers/92_pendle.txt, with url: https://docs.pendle.finance/resources/lite-paper\n"
     ]
    },
    {
     "name": "stderr",
     "output_type": "stream",
     "text": [
      " 18%|█▊        | 78/423 [00:31<01:36,  3.57it/s]"
     ]
    },
    {
     "name": "stdout",
     "output_type": "stream",
     "text": [
      "An error occurred while verifying ../data/whitepapers/100_gnosis-gno.pdf. Error: EOF marker not found\n"
     ]
    },
    {
     "name": "stderr",
     "output_type": "stream",
     "text": [
      " 19%|█▉        | 81/423 [00:32<02:22,  2.40it/s]"
     ]
    },
    {
     "name": "stdout",
     "output_type": "stream",
     "text": [
      "An error occurred while verifying ../data/whitepapers/104_nexo.pdf. Error: EOF marker not found\n"
     ]
    },
    {
     "name": "stderr",
     "output_type": "stream",
     "text": [
      " 21%|██        | 87/423 [00:36<02:37,  2.14it/s]"
     ]
    },
    {
     "name": "stdout",
     "output_type": "stream",
     "text": [
      "An error occurred while verifying ../data/whitepapers/112_dexe.pdf. Error: EOF marker not found\n"
     ]
    },
    {
     "name": "stderr",
     "output_type": "stream",
     "text": [
      " 21%|██        | 88/423 [00:37<02:53,  1.94it/s]"
     ]
    },
    {
     "name": "stdout",
     "output_type": "stream",
     "text": [
      "An error occurred while verifying ../data/whitepapers/113_iota.pdf. Error: EOF marker not found\n"
     ]
    },
    {
     "name": "stderr",
     "output_type": "stream",
     "text": [
      " 22%|██▏       | 91/423 [00:38<02:56,  1.88it/s]"
     ]
    },
    {
     "name": "stdout",
     "output_type": "stream",
     "text": [
      "Failed to download ../data/whitepapers/116_usdd.pdf, with url: https://usdd.network/USDD-en.pdf\n"
     ]
    },
    {
     "name": "stderr",
     "output_type": "stream",
     "text": [
      " 22%|██▏       | 93/423 [00:40<03:11,  1.72it/s]"
     ]
    },
    {
     "name": "stdout",
     "output_type": "stream",
     "text": [
      "Failed to download ../data/whitepapers/118_axelar.pdf, with url: https://axelar.network/wp-content/uploads/2021/07/axelar_whitepaper.pdf\n"
     ]
    },
    {
     "name": "stderr",
     "output_type": "stream",
     "text": [
      " 26%|██▌       | 108/423 [00:48<03:59,  1.31it/s]"
     ]
    },
    {
     "name": "stdout",
     "output_type": "stream",
     "text": [
      "Failed to download ../data/whitepapers/141_ftx-token.txt, with url: https://docs.google.com/document/d/1u5MOkENoWP8PGcjuoKqRkNP5Gl1LLRB9JvAHwffQ7ec/view\n"
     ]
    },
    {
     "name": "stderr",
     "output_type": "stream",
     "text": [
      " 27%|██▋       | 116/423 [00:51<02:22,  2.16it/s]"
     ]
    },
    {
     "name": "stdout",
     "output_type": "stream",
     "text": [
      "Failed to download ../data/whitepapers/152_raydium.pdf, with url: https://raydium.io/Raydium-Litepaper.pdf\n"
     ]
    },
    {
     "name": "stderr",
     "output_type": "stream",
     "text": [
      " 28%|██▊       | 117/423 [00:52<02:37,  1.94it/s]"
     ]
    },
    {
     "name": "stdout",
     "output_type": "stream",
     "text": [
      "Failed to download ../data/whitepapers/153_0x.pdf, with url: https://0xproject.com/pdfs/0x_white_paper.pdf\n"
     ]
    },
    {
     "name": "stderr",
     "output_type": "stream",
     "text": [
      " 30%|██▉       | 126/423 [00:56<02:40,  1.85it/s]"
     ]
    },
    {
     "name": "stdout",
     "output_type": "stream",
     "text": [
      "Failed to download ../data/whitepapers/163_pax-gold.txt, with url: https://www.paxos.com/pax-gold-whitepaper\n"
     ]
    },
    {
     "name": "stderr",
     "output_type": "stream",
     "text": [
      " 30%|███       | 128/423 [00:56<02:10,  2.27it/s]"
     ]
    },
    {
     "name": "stdout",
     "output_type": "stream",
     "text": [
      "Failed to download ../data/whitepapers/165_reserve-rights.txt, with url: https://reserve.org/protocol/2021_version/#main-content\n"
     ]
    },
    {
     "name": "stderr",
     "output_type": "stream",
     "text": [
      " 30%|███       | 129/423 [00:57<02:25,  2.02it/s]"
     ]
    },
    {
     "name": "stdout",
     "output_type": "stream",
     "text": [
      "An error occurred while verifying ../data/whitepapers/166_zcash.pdf. Error: EOF marker not found\n"
     ]
    },
    {
     "name": "stderr",
     "output_type": "stream",
     "text": [
      " 32%|███▏      | 134/423 [01:02<04:06,  1.17it/s]"
     ]
    },
    {
     "name": "stdout",
     "output_type": "stream",
     "text": [
      "Failed to download ../data/whitepapers/173_binaryx-new.txt, with url: https://binaryx.pro/whitepaper\n"
     ]
    },
    {
     "name": "stderr",
     "output_type": "stream",
     "text": [
      " 32%|███▏      | 135/423 [01:02<03:19,  1.44it/s]"
     ]
    },
    {
     "name": "stdout",
     "output_type": "stream",
     "text": [
      "Failed to download ../data/whitepapers/174_biconomy.txt, with url: https://www.biconomy.io/litepaper\n"
     ]
    },
    {
     "name": "stderr",
     "output_type": "stream",
     "text": [
      " 33%|███▎      | 140/423 [01:05<02:49,  1.67it/s]"
     ]
    },
    {
     "name": "stdout",
     "output_type": "stream",
     "text": [
      "An error occurred while verifying ../data/whitepapers/181_arcblock.pdf. Error: EOF marker not found\n"
     ]
    },
    {
     "name": "stderr",
     "output_type": "stream",
     "text": [
      " 37%|███▋      | 157/423 [01:10<01:52,  2.36it/s]"
     ]
    },
    {
     "name": "stdout",
     "output_type": "stream",
     "text": [
      "Failed to download ../data/whitepapers/200_centrifuge.pdf, with url: https://centrifuge.io/cfg_token_summary.pdf\n"
     ]
    },
    {
     "name": "stderr",
     "output_type": "stream",
     "text": [
      " 40%|████      | 171/423 [01:13<00:41,  6.02it/s]"
     ]
    },
    {
     "name": "stdout",
     "output_type": "stream",
     "text": [
      "Failed to download ../data/whitepapers/223_coinbase-wrapped-staked-eth.txt, with url: https://www.coinbase.com/cbeth/whitepaper\n"
     ]
    },
    {
     "name": "stderr",
     "output_type": "stream",
     "text": [
      " 41%|████      | 174/423 [01:14<00:36,  6.74it/s]"
     ]
    },
    {
     "name": "stdout",
     "output_type": "stream",
     "text": [
      "Failed to download ../data/whitepapers/232_restaked-swell-ethereum.txt, with url: https://docs.swellnetwork.io/swell/what-is-swell\n"
     ]
    },
    {
     "name": "stderr",
     "output_type": "stream",
     "text": [
      " 44%|████▍     | 188/423 [01:21<01:44,  2.24it/s]"
     ]
    },
    {
     "name": "stdout",
     "output_type": "stream",
     "text": [
      "Failed to download ../data/whitepapers/253_hex.txt, with url: https://hex.win/techspecs.html\n"
     ]
    },
    {
     "name": "stderr",
     "output_type": "stream",
     "text": [
      " 45%|████▌     | 191/423 [01:21<01:12,  3.18it/s]"
     ]
    },
    {
     "name": "stdout",
     "output_type": "stream",
     "text": [
      "Failed to download ../data/whitepapers/257_telcoin.pdf, with url: https://www.telco.in/docs/whitepaper.pdf\n"
     ]
    },
    {
     "name": "stderr",
     "output_type": "stream",
     "text": [
      " 48%|████▊     | 202/423 [01:27<01:54,  1.93it/s]"
     ]
    },
    {
     "name": "stdout",
     "output_type": "stream",
     "text": [
      "Failed to download ../data/whitepapers/273_band-protocol.pdf, with url: https://bandprotocol.com/whitepaper-3.0.1.pdf\n"
     ]
    },
    {
     "name": "stderr",
     "output_type": "stream",
     "text": [
      " 49%|████▉     | 208/423 [01:29<01:42,  2.10it/s]"
     ]
    },
    {
     "name": "stdout",
     "output_type": "stream",
     "text": [
      "Failed to download ../data/whitepapers/279_rlc.pdf, with url: https://iex.ec/app/uploads/2017/04/iExec-WPv2.0-English.pdf\n"
     ]
    },
    {
     "name": "stderr",
     "output_type": "stream",
     "text": [
      " 50%|█████     | 213/423 [01:31<01:29,  2.36it/s]"
     ]
    },
    {
     "name": "stdout",
     "output_type": "stream",
     "text": [
      "An error occurred while downloading ../data/whitepapers/286_finschia.txt, with url: https://www.finschia.network/whitepaper/, Error is: HTTPSConnectionPool(host='www.finschia.network', port=443): Max retries exceeded with url: /whitepaper/ (Caused by NameResolutionError(\"<urllib3.connection.HTTPSConnection object at 0x13faee020>: Failed to resolve 'www.finschia.network' ([Errno 8] nodename nor servname provided, or not known)\"))\n"
     ]
    },
    {
     "name": "stderr",
     "output_type": "stream",
     "text": [
      " 51%|█████▏    | 217/423 [01:33<01:15,  2.72it/s]"
     ]
    },
    {
     "name": "stdout",
     "output_type": "stream",
     "text": [
      "Failed to download ../data/whitepapers/290_wax.txt, with url: https://developer.wax.io/api-docs-tools/\n"
     ]
    },
    {
     "name": "stderr",
     "output_type": "stream",
     "text": [
      " 52%|█████▏    | 219/423 [01:34<01:38,  2.06it/s]"
     ]
    },
    {
     "name": "stdout",
     "output_type": "stream",
     "text": [
      "Failed to download ../data/whitepapers/294_beldex.pdf, with url: https://beldex.io/whitepaper.pdf\n"
     ]
    },
    {
     "name": "stderr",
     "output_type": "stream",
     "text": [
      " 55%|█████▍    | 231/423 [01:44<03:19,  1.04s/it]"
     ]
    },
    {
     "name": "stdout",
     "output_type": "stream",
     "text": [
      "Failed to download ../data/whitepapers/308_prom.pdf, with url: https://prom.io/whitepaper.pdf\n"
     ]
    },
    {
     "name": "stderr",
     "output_type": "stream",
     "text": [
      " 55%|█████▌    | 233/423 [01:44<02:10,  1.45it/s]"
     ]
    },
    {
     "name": "stdout",
     "output_type": "stream",
     "text": [
      "An error occurred while downloading ../data/whitepapers/310_marlin.txt, with url: https://www.marlin.pro/whitepaper, Error is: HTTPSConnectionPool(host='www.marlin.pro', port=443): Max retries exceeded with url: /whitepaper (Caused by NameResolutionError(\"<urllib3.connection.HTTPSConnection object at 0x13ffb4190>: Failed to resolve 'www.marlin.pro' ([Errno 8] nodename nor servname provided, or not known)\"))\n"
     ]
    },
    {
     "name": "stderr",
     "output_type": "stream",
     "text": [
      " 57%|█████▋    | 239/423 [01:46<01:15,  2.44it/s]"
     ]
    },
    {
     "name": "stdout",
     "output_type": "stream",
     "text": [
      "An error occurred while verifying ../data/whitepapers/317_digibyte.pdf. Error: EOF marker not found\n"
     ]
    },
    {
     "name": "stderr",
     "output_type": "stream",
     "text": [
      " 57%|█████▋    | 240/423 [01:46<01:04,  2.86it/s]"
     ]
    },
    {
     "name": "stdout",
     "output_type": "stream",
     "text": [
      "Failed to download ../data/whitepapers/318_propy.pdf, with url: https://tokensale.propy.com/Propy-White-Paper-17-Jul-2017.pdf\n"
     ]
    },
    {
     "name": "stderr",
     "output_type": "stream",
     "text": [
      " 57%|█████▋    | 242/423 [01:48<01:40,  1.80it/s]"
     ]
    },
    {
     "name": "stdout",
     "output_type": "stream",
     "text": [
      "Failed to download ../data/whitepapers/320_lisk.txt, with url: https://lisk.com/documentation/lisk-sdk/index.html\n"
     ]
    },
    {
     "name": "stderr",
     "output_type": "stream",
     "text": [
      " 58%|█████▊    | 246/423 [01:50<01:10,  2.51it/s]"
     ]
    },
    {
     "name": "stdout",
     "output_type": "stream",
     "text": [
      "An error occurred while downloading ../data/whitepapers/326_wavax.pdf, with url: https://files.avalabs.org/papers/consensus.pdf, Error is: HTTPSConnectionPool(host='files.avalabs.org', port=443): Max retries exceeded with url: /papers/consensus.pdf (Caused by NameResolutionError(\"<urllib3.connection.HTTPSConnection object at 0x13ff3c850>: Failed to resolve 'files.avalabs.org' ([Errno 8] nodename nor servname provided, or not known)\"))\n"
     ]
    },
    {
     "name": "stderr",
     "output_type": "stream",
     "text": [
      " 60%|█████▉    | 252/423 [01:52<01:09,  2.45it/s]"
     ]
    },
    {
     "name": "stdout",
     "output_type": "stream",
     "text": [
      "Failed to download ../data/whitepapers/336_venus.pdf, with url: https://venus.io/Whitepaper.pdf\n"
     ]
    },
    {
     "name": "stderr",
     "output_type": "stream",
     "text": [
      " 61%|██████    | 256/423 [01:53<00:42,  3.96it/s]"
     ]
    },
    {
     "name": "stdout",
     "output_type": "stream",
     "text": [
      "An error occurred while downloading ../data/whitepapers/342_flex.pdf, with url: https://coinflex.com/documents/CoinFLEX-Whitepaper.pdf, Error is: HTTPSConnectionPool(host='coinflex.com', port=443): Max retries exceeded with url: /documents/CoinFLEX-Whitepaper.pdf (Caused by NameResolutionError(\"<urllib3.connection.HTTPSConnection object at 0x15c1a3100>: Failed to resolve 'coinflex.com' ([Errno 8] nodename nor servname provided, or not known)\"))\n"
     ]
    },
    {
     "name": "stderr",
     "output_type": "stream",
     "text": [
      " 63%|██████▎   | 265/423 [01:57<00:56,  2.81it/s]"
     ]
    },
    {
     "name": "stdout",
     "output_type": "stream",
     "text": [
      "Failed to download ../data/whitepapers/359_keep-network.txt, with url: https://keep.network/whitepaper\n"
     ]
    },
    {
     "name": "stderr",
     "output_type": "stream",
     "text": [
      " 64%|██████▎   | 269/423 [01:58<00:37,  4.11it/s]"
     ]
    },
    {
     "name": "stdout",
     "output_type": "stream",
     "text": [
      "Failed to download ../data/whitepapers/363_world-mobile-token.pdf, with url: https://worldmobiletoken.com/WhitePaper.pdf\n"
     ]
    },
    {
     "name": "stderr",
     "output_type": "stream",
     "text": [
      " 64%|██████▍   | 271/423 [02:00<01:27,  1.73it/s]"
     ]
    },
    {
     "name": "stdout",
     "output_type": "stream",
     "text": [
      "An error occurred while verifying ../data/whitepapers/365_vulcan-forged-pyr.pdf. Error: EOF marker not found\n"
     ]
    },
    {
     "name": "stderr",
     "output_type": "stream",
     "text": [
      " 68%|██████▊   | 286/423 [02:07<01:29,  1.53it/s]"
     ]
    },
    {
     "name": "stdout",
     "output_type": "stream",
     "text": [
      "An error occurred while verifying ../data/whitepapers/385_paxos-standard.pdf. Error: EOF marker not found\n"
     ]
    },
    {
     "name": "stderr",
     "output_type": "stream",
     "text": [
      " 69%|██████▊   | 290/423 [02:09<01:01,  2.16it/s]"
     ]
    },
    {
     "name": "stdout",
     "output_type": "stream",
     "text": [
      "Failed to download ../data/whitepapers/389_stratis-new.pdf, with url: https://www.stratisplatform.com/files/Stratis_Whitepaper.pdf\n"
     ]
    },
    {
     "name": "stderr",
     "output_type": "stream",
     "text": [
      " 69%|██████▉   | 291/423 [02:09<01:06,  1.97it/s]"
     ]
    },
    {
     "name": "stdout",
     "output_type": "stream",
     "text": [
      "Failed to download ../data/whitepapers/390_ark.pdf, with url: https://arkscic.com/Whitepaper.pdf\n"
     ]
    },
    {
     "name": "stderr",
     "output_type": "stream",
     "text": [
      " 70%|██████▉   | 294/423 [02:12<01:25,  1.51it/s]"
     ]
    },
    {
     "name": "stdout",
     "output_type": "stream",
     "text": [
      "An error occurred while verifying ../data/whitepapers/396_pundix-new.pdf. Error: EOF marker not found\n"
     ]
    },
    {
     "name": "stderr",
     "output_type": "stream",
     "text": [
      " 70%|███████   | 298/423 [02:13<01:02,  1.99it/s]"
     ]
    },
    {
     "name": "stdout",
     "output_type": "stream",
     "text": [
      "An error occurred while verifying ../data/whitepapers/403_status.pdf. Error: EOF marker not found\n"
     ]
    },
    {
     "name": "stderr",
     "output_type": "stream",
     "text": [
      " 71%|███████   | 301/423 [02:15<01:07,  1.80it/s]"
     ]
    },
    {
     "name": "stdout",
     "output_type": "stream",
     "text": [
      "Failed to download ../data/whitepapers/407_velo.pdf, with url: https://velo.org/doc/Velo_Whitepaper_EN.pdf\n"
     ]
    },
    {
     "name": "stderr",
     "output_type": "stream",
     "text": [
      " 72%|███████▏  | 304/423 [02:17<01:20,  1.47it/s]"
     ]
    },
    {
     "name": "stdout",
     "output_type": "stream",
     "text": [
      "An error occurred while verifying ../data/whitepapers/411_stargate-finance.pdf. Error: EOF marker not found\n"
     ]
    },
    {
     "name": "stderr",
     "output_type": "stream",
     "text": [
      " 76%|███████▌  | 321/423 [02:23<00:46,  2.20it/s]"
     ]
    },
    {
     "name": "stdout",
     "output_type": "stream",
     "text": [
      "An error occurred while verifying ../data/whitepapers/433_wink.pdf. Error: EOF marker not found\n"
     ]
    },
    {
     "name": "stderr",
     "output_type": "stream",
     "text": [
      " 78%|███████▊  | 328/423 [02:26<00:38,  2.46it/s]"
     ]
    },
    {
     "name": "stdout",
     "output_type": "stream",
     "text": [
      "An error occurred while verifying ../data/whitepapers/442_bazaars.pdf. Error: EOF marker not found\n"
     ]
    },
    {
     "name": "stderr",
     "output_type": "stream",
     "text": [
      " 79%|███████▊  | 333/423 [02:29<00:40,  2.21it/s]"
     ]
    },
    {
     "name": "stdout",
     "output_type": "stream",
     "text": [
      "Failed to download ../data/whitepapers/451_gains-network.txt, with url: https://gainsnetwork.gitbook.io/docs-home/\n"
     ]
    },
    {
     "name": "stderr",
     "output_type": "stream",
     "text": [
      " 79%|███████▉  | 335/423 [02:34<02:01,  1.39s/it]"
     ]
    },
    {
     "name": "stdout",
     "output_type": "stream",
     "text": [
      "Failed to download ../data/whitepapers/454_dkargo.pdf, with url: https://dkargo.io/resources/dkargo_wp_en_new.pdf\n"
     ]
    },
    {
     "name": "stderr",
     "output_type": "stream",
     "text": [
      " 80%|███████▉  | 338/423 [02:35<01:03,  1.33it/s]"
     ]
    },
    {
     "name": "stdout",
     "output_type": "stream",
     "text": [
      "Failed to download ../data/whitepapers/460_mines-of-dalarnia.pdf, with url: https://www.minesofdalarnia.com/assets/MoD-Litepaper-updated-27-Oct.pdf\n"
     ]
    },
    {
     "name": "stderr",
     "output_type": "stream",
     "text": [
      " 80%|████████  | 339/423 [02:35<00:55,  1.53it/s]"
     ]
    },
    {
     "name": "stdout",
     "output_type": "stream",
     "text": [
      "An error occurred while verifying ../data/whitepapers/461_orchid.pdf. Error: EOF marker not found\n"
     ]
    },
    {
     "name": "stderr",
     "output_type": "stream",
     "text": [
      " 81%|████████  | 341/423 [02:36<00:37,  2.20it/s]"
     ]
    },
    {
     "name": "stdout",
     "output_type": "stream",
     "text": [
      "An error occurred while verifying ../data/whitepapers/463_bluzelle.pdf. Error: EOF marker not found\n"
     ]
    },
    {
     "name": "stderr",
     "output_type": "stream",
     "text": [
      " 82%|████████▏ | 347/423 [02:44<01:13,  1.04it/s]"
     ]
    },
    {
     "name": "stdout",
     "output_type": "stream",
     "text": [
      "Failed to download ../data/whitepapers/469_radio-caca.txt, with url: https://www.raca3.com/whitePaper\n"
     ]
    },
    {
     "name": "stderr",
     "output_type": "stream",
     "text": [
      " 84%|████████▍ | 356/423 [02:48<00:43,  1.56it/s]"
     ]
    },
    {
     "name": "stdout",
     "output_type": "stream",
     "text": [
      "Failed to download ../data/whitepapers/484_medibloc.pdf, with url: https://medibloc-homepage.oss-us-west-1.aliyuncs.com/whitepaper/medibloc_whitepaper_en.pdf\n"
     ]
    },
    {
     "name": "stderr",
     "output_type": "stream",
     "text": [
      " 87%|████████▋ | 366/423 [02:50<00:13,  4.16it/s]"
     ]
    },
    {
     "name": "stdout",
     "output_type": "stream",
     "text": [
      "An error occurred while downloading ../data/whitepapers/500_node-ai.txt, with url: https://docs.nodeai.app/, Error is: HTTPSConnectionPool(host='docs.nodeai.app', port=443): Max retries exceeded with url: / (Caused by NameResolutionError(\"<urllib3.connection.HTTPSConnection object at 0x15c263880>: Failed to resolve 'docs.nodeai.app' ([Errno 8] nodename nor servname provided, or not known)\"))\n"
     ]
    },
    {
     "name": "stderr",
     "output_type": "stream",
     "text": [
      " 87%|████████▋ | 367/423 [02:50<00:13,  4.09it/s]"
     ]
    },
    {
     "name": "stdout",
     "output_type": "stream",
     "text": [
      "Failed to download ../data/whitepapers/502_energy-web-token.pdf, with url: https://www.energyweb.org/wp-content/uploads/2019/12/EnergyWeb-EWDOS-VisionPurpose-vFinal-20191211.pdf\n"
     ]
    },
    {
     "name": "stderr",
     "output_type": "stream",
     "text": [
      " 87%|████████▋ | 368/423 [02:51<00:20,  2.64it/s]"
     ]
    },
    {
     "name": "stdout",
     "output_type": "stream",
     "text": [
      "Failed to download ../data/whitepapers/503_origin-protocol.txt, with url: https://www.originprotocol.com/litepaper\n"
     ]
    },
    {
     "name": "stderr",
     "output_type": "stream",
     "text": [
      " 89%|████████▉ | 376/423 [02:55<00:22,  2.10it/s]"
     ]
    },
    {
     "name": "stdout",
     "output_type": "stream",
     "text": [
      "Failed to download ../data/whitepapers/512_entangle.txt, with url: https://entangle.gitbook.io/entangle/\n"
     ]
    },
    {
     "name": "stderr",
     "output_type": "stream",
     "text": [
      " 91%|█████████ | 385/423 [02:59<00:13,  2.90it/s]"
     ]
    },
    {
     "name": "stdout",
     "output_type": "stream",
     "text": [
      "Failed to download ../data/whitepapers/520_veruscoin.pdf, with url: https://veruscoin.io/downloads/papers/VerusVision.pdf\n"
     ]
    },
    {
     "name": "stderr",
     "output_type": "stream",
     "text": [
      " 92%|█████████▏| 390/423 [03:01<00:12,  2.60it/s]"
     ]
    },
    {
     "name": "stdout",
     "output_type": "stream",
     "text": [
      "Failed to download ../data/whitepapers/530_ren.pdf, with url: https://renproject.io/litepaper.pdf\n"
     ]
    },
    {
     "name": "stderr",
     "output_type": "stream",
     "text": [
      " 94%|█████████▍| 398/423 [03:04<00:07,  3.20it/s]"
     ]
    },
    {
     "name": "stdout",
     "output_type": "stream",
     "text": [
      "An error occurred while verifying ../data/whitepapers/543_memetoon.pdf. Error: EOF marker not found\n"
     ]
    },
    {
     "name": "stderr",
     "output_type": "stream",
     "text": [
      " 96%|█████████▌| 405/423 [03:07<00:07,  2.32it/s]"
     ]
    },
    {
     "name": "stdout",
     "output_type": "stream",
     "text": [
      "Failed to download ../data/whitepapers/554_cortex.txt, with url: https://cortexlabs.ai/cortex_2_0_whitepaper_en\n"
     ]
    },
    {
     "name": "stderr",
     "output_type": "stream",
     "text": [
      "100%|██████████| 423/423 [03:17<00:00,  2.15it/s]\n"
     ]
    }
   ],
   "source": [
    "# Function to verify PDF structure\n",
    "def verify_pdf(file_name):\n",
    "    try:\n",
    "        with open(file_name, 'rb') as file:\n",
    "            reader = PyPDF2.PdfReader(file)\n",
    "            # Check if the PDF has at least one page\n",
    "            if len(reader.pages) > 0:\n",
    "                return True\n",
    "            else:\n",
    "                return False\n",
    "    except Exception as e:\n",
    "        print(f'An error occurred while verifying {file_name}. Error: {e}')\n",
    "        # traceback.print_exc()\n",
    "        return False\n",
    "    \n",
    "# Function to download PDF\n",
    "def fetch_webpage_content(url, file_name):\n",
    "    try:\n",
    "        response = requests.get(url)\n",
    "        \n",
    "        if response.status_code == 200:\n",
    "            content = response.content\n",
    "            \n",
    "            if 'pdf' in file_name:\n",
    "                with open(file_name, 'wb') as file:\n",
    "                    file.write(content)\n",
    "                    \n",
    "                if not verify_pdf(file_name):\n",
    "                    invalid_file_name = file_name.replace('.pdf', '_invalid.pdf')\n",
    "                    os.rename(file_name, invalid_file_name)\n",
    "                \n",
    "            else:\n",
    "                soup = BeautifulSoup(content, 'html.parser', from_encoding=\"iso-8859-1\")\n",
    "                content = soup.get_text(separator='\\n')\n",
    "                \n",
    "                with open(file_name, 'w') as f:\n",
    "                    f.write(content)\n",
    "                \n",
    "        else:\n",
    "            print(f'Failed to download {file_name}, with url: {url}')\n",
    "    except Exception as e:\n",
    "        print(f'An error occurred while downloading {file_name}, with url: {url}, Error is: {e}')\n",
    "        \n",
    "        \n",
    "\n",
    "for index, row in tqdm(df.iterrows(), total=df.shape[0]):\n",
    "    url = row['whitepaper_link']\n",
    "    type = 'pdf' if 'pdf' in url else 'txt'\n",
    "    file_name = f\"../data/whitepapers/{index + 1}_{row['slug']}.{type}\"\n",
    "    \n",
    "    if type == 'txt' and os.path.exists(file_name):\n",
    "        os.remove(file_name)\n",
    "    \n",
    "    if not os.path.exists(file_name):\n",
    "        fetch_webpage_content(url, file_name)\n",
    "        \n",
    "        \n",
    "\n",
    "    "
   ]
  },
  {
   "cell_type": "markdown",
   "metadata": {},
   "source": []
  }
 ],
 "metadata": {
  "kernelspec": {
   "display_name": "env",
   "language": "python",
   "name": "python3"
  },
  "language_info": {
   "codemirror_mode": {
    "name": "ipython",
    "version": 3
   },
   "file_extension": ".py",
   "mimetype": "text/x-python",
   "name": "python",
   "nbconvert_exporter": "python",
   "pygments_lexer": "ipython3",
   "version": "3.10.14"
  }
 },
 "nbformat": 4,
 "nbformat_minor": 2
}
